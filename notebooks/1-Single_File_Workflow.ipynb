{
 "cells": [
  {
   "cell_type": "markdown",
   "metadata": {},
   "source": [
    "# Example: Single Subject File Workflow\n",
    "This example only uses one EEG file from a subject. The file paths are defined below."
   ]
  },
  {
   "cell_type": "markdown",
   "metadata": {},
   "source": [
    "### Imports\n",
    "The following adds the tbear into our `sys.path`, so T-BEAR functions are accessible. "
   ]
  },
  {
   "cell_type": "code",
   "execution_count": 17,
   "metadata": {
    "ExecuteTime": {
     "end_time": "2019-04-12T23:08:36.017744Z",
     "start_time": "2019-04-12T23:08:35.997895Z"
    }
   },
   "outputs": [],
   "source": [
    "import os\n",
    "import sys\n",
    "\n",
    "from sklearn.ensemble import RandomForestClassifier\n",
    "\n",
    "module_path = os.path.realpath(os.path.join(\"..\", \"tbear\"))\n",
    "if module_path not in sys.path:\n",
    "    sys.path.append(module_path)\n",
    "\n",
    "%matplotlib inline"
   ]
  },
  {
   "cell_type": "code",
   "execution_count": 18,
   "metadata": {
    "ExecuteTime": {
     "end_time": "2019-04-12T23:08:36.061413Z",
     "start_time": "2019-04-12T23:08:36.025385Z"
    }
   },
   "outputs": [],
   "source": [
    "from core import *\n",
    "\n",
    "RANDOM_STATE = 42\n",
    "set_config('MNE_LOGGING_LEVEL', 'ERROR')\n",
    "set_log_level('ERROR')"
   ]
  },
  {
   "cell_type": "markdown",
   "metadata": {},
   "source": [
    "### Data Input and Instantiation\n",
    "Let's read in the `.set` file and `.mat` files. Change the paths accordingly for your file path."
   ]
  },
  {
   "cell_type": "code",
   "execution_count": 19,
   "metadata": {
    "ExecuteTime": {
     "end_time": "2019-04-12T23:08:36.081403Z",
     "start_time": "2019-04-12T23:08:36.069399Z"
    }
   },
   "outputs": [],
   "source": [
    "subject_file = os.path.realpath(\n",
    "    os.path.join(\"..\", \"data\", \"new-data\", \"epoched_files_ECG_EMG_EOG\",\n",
    "                 \"ANTT_104_SR_raw_TIB_epoch.set\"))\n",
    "reject_file = os.path.realpath(\n",
    "    os.path.join(\"..\", \"data\", \"new-data\", \"new_AR_REM_redo_files\",\n",
    "                 \"ANTT_104_SR_reject_rmm_REMredo.mat\"))"
   ]
  },
  {
   "cell_type": "code",
   "execution_count": 20,
   "metadata": {
    "ExecuteTime": {
     "end_time": "2019-04-12T23:08:46.502191Z",
     "start_time": "2019-04-12T23:08:36.089402Z"
    }
   },
   "outputs": [
    {
     "name": "stdout",
     "output_type": "stream",
     "text": [
      "ANTT_104_SR_raw_TIB_epoch\n"
     ]
    }
   ],
   "source": [
    "subj_104 = Subject(subject_file, reject_file)\n",
    "print(subj_104)  # File name becomes the name of the Subject instance"
   ]
  },
  {
   "cell_type": "markdown",
   "metadata": {},
   "source": [
    "**Note:** We can use the class method `add_to_group()` to add this instance to a class variable. Visit `2-Directory_Workflow.ipynb` for an example."
   ]
  },
  {
   "cell_type": "code",
   "execution_count": 21,
   "metadata": {
    "ExecuteTime": {
     "end_time": "2019-04-12T23:08:46.512410Z",
     "start_time": "2019-04-12T23:08:46.504292Z"
    }
   },
   "outputs": [
    {
     "name": "stdout",
     "output_type": "stream",
     "text": [
      "(6460, 25, 2000)\n"
     ]
    }
   ],
   "source": [
    "print(subj_104.subject.shape)"
   ]
  },
  {
   "cell_type": "code",
   "execution_count": 22,
   "metadata": {
    "ExecuteTime": {
     "end_time": "2019-04-12T23:10:28.442746Z",
     "start_time": "2019-04-12T23:08:46.516521Z"
    }
   },
   "outputs": [
    {
     "name": "stdout",
     "output_type": "stream",
     "text": [
      "(6460, 500)\n"
     ]
    }
   ],
   "source": [
    "subj_104.pca_transform()\n",
    "print(subj_104.subject.shape)"
   ]
  },
  {
   "cell_type": "code",
   "execution_count": 23,
   "metadata": {
    "ExecuteTime": {
     "end_time": "2019-04-12T23:10:28.452837Z",
     "start_time": "2019-04-12T23:10:28.444889Z"
    }
   },
   "outputs": [],
   "source": [
    "clf = RandomForestClassifier(n_estimators=100, random_state=RANDOM_STATE)"
   ]
  },
  {
   "cell_type": "code",
   "execution_count": 25,
   "metadata": {
    "ExecuteTime": {
     "end_time": "2019-04-12T23:12:14.693919Z",
     "start_time": "2019-04-12T23:10:40.478633Z"
    }
   },
   "outputs": [
    {
     "name": "stdout",
     "output_type": "stream",
     "text": [
      "F1 Scores: 0.5121951219512195\n"
     ]
    }
   ],
   "source": [
    "clf = Subject.train_model(\n",
    "    clf,\n",
    "    subj_104.subject,\n",
    "    subj_104.reject,\n",
    "    kfold=True)"
   ]
  },
  {
   "cell_type": "code",
   "execution_count": 8,
   "metadata": {
    "ExecuteTime": {
     "end_time": "2019-04-12T05:51:39.249467Z",
     "start_time": "2019-04-12T05:50:55.384751Z"
    }
   },
   "outputs": [
    {
     "name": "stdout",
     "output_type": "stream",
     "text": [
      "Test Score: 0.5742574257425743\n"
     ]
    }
   ],
   "source": [
    "clf = Subject.train_model(\n",
    "    clf,\n",
    "    subj_104.subject,\n",
    "    subj_104.reject)"
   ]
  }
 ],
 "metadata": {
  "kernelspec": {
   "display_name": "Python 3",
   "language": "python",
   "name": "python3"
  },
  "language_info": {
   "codemirror_mode": {
    "name": "ipython",
    "version": 3
   },
   "file_extension": ".py",
   "mimetype": "text/x-python",
   "name": "python",
   "nbconvert_exporter": "python",
   "pygments_lexer": "ipython3",
   "version": "3.6.8"
  }
 },
 "nbformat": 4,
 "nbformat_minor": 2
}
