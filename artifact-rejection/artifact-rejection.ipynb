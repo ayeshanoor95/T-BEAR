{
 "cells": [
  {
   "cell_type": "markdown",
   "metadata": {},
   "source": [
    "<h1><center>EEG Artifact Rejection Demo</center></h1>"
   ]
  },
  {
   "cell_type": "code",
   "execution_count": null,
   "metadata": {
    "scrolled": false
   },
   "outputs": [],
   "source": [
    "%run -i utils.py"
   ]
  },
  {
   "cell_type": "markdown",
   "metadata": {
    "scrolled": true
   },
   "source": [
    "<h3><left>I. Data Wrangling</left></h3>"
   ]
  },
  {
   "cell_type": "code",
   "execution_count": null,
   "metadata": {
    "scrolled": true
   },
   "outputs": [],
   "source": [
    "# Use the median for each of the bad channels\n",
    "bad_channels_stephanie = {\n",
    "    'Rew_605_rest': ['Fp1', 'Fp2'],\n",
    "    'Rew_609_rest': ['F3', 'F7', 'Fp1'],\n",
    "    'Rew_611_rest': ['Fp2', 'T3'],\n",
    "    'Rew_613_rest': ['F7', 'Fp2'],\n",
    "    'Rew_614_rest': ['C3', 'CZ', 'F3', 'F7', 'F8', 'FZ', 'Fp1', 'O1', 'P3', 'PZ', 'T3', 'T5'],\n",
    "    'Rew_615_rest': ['C4', 'F4', 'F8', 'Fp2', 'O2', 'P4', 'T4', 'T6'],\n",
    "    'Rew_619_rest': ['F4'],\n",
    "    'Rew_622_rest': ['F7'],\n",
    "    'Rew_624_rest': ['F3', 'F7', 'Fp1', 'T3', 'T4', 'T5', 'T6'],\n",
    "    'Rew_626_rest': ['F3', 'F4', 'T3', 'T4', 'T5'],\n",
    "    'Rew_701_rest': ['C4', 'F7', 'F8', 'O1', 'O2', 'T3', 'T3', 'T4', 'T5'],\n",
    "    'Rew_702_rest': ['C3', 'F3'],\n",
    "    'Rew_703_rest': ['F4', 'F7', 'F8', 'Fp2', 'T3', 'T4', 'T6'],\n",
    "    'Rew_704_rest': ['C3'],\n",
    "    'Rew_706_rest': ['T4']\n",
    "}"
   ]
  },
  {
   "cell_type": "code",
   "execution_count": null,
   "metadata": {
    "scrolled": true
   },
   "outputs": [],
   "source": [
    "# Load researcher and subject folders\n",
    "stephanie_folder = Path('C:\\\\Users\\\\peter\\\\git\\\\EEG-artifact-rejection\\\\artifact-rejection\\\\eeg-data\\\\Stephanie')\n",
    "sub_folders = [[file, os.path.join(stephanie_folder, file)] for file in os.listdir(stephanie_folder)]\n",
    "train_sub_folders , test_sub_folders = train_test_split(sub_folders)"
   ]
  },
  {
   "cell_type": "markdown",
   "metadata": {},
   "source": [
    "<h4><left>Data Architecture</left></h4>"
   ]
  },
  {
   "cell_type": "code",
   "execution_count": null,
   "metadata": {
    "scrolled": true
   },
   "outputs": [],
   "source": [
    "subjects = dict()\n",
    "for sub in train_sub_folders:\n",
    "    sub_id, path_ = sub[0], sub[1]\n",
    "    files = os.listdir(Path(path_))\n",
    "    sub_files = dict()\n",
    "    for file in files:\n",
    "        full_path = os.path.join(Path(path_), file)\n",
    "        if 'epoch' in file:\n",
    "            sub_files['epoch'] = full_path\n",
    "        if 'reject' in file:\n",
    "            sub_files['reject'] = full_path\n",
    "        elif 'stages' in file:\n",
    "            sub_files['stage'] = full_path\n",
    "    subjects[sub_id] = sub_files"
   ]
  },
  {
   "cell_type": "markdown",
   "metadata": {},
   "source": [
    "<h4><left>Data Processing</left></h4>"
   ]
  },
  {
   "cell_type": "code",
   "execution_count": null,
   "metadata": {
    "scrolled": true
   },
   "outputs": [],
   "source": [
    "epoched_dataframes = list()\n",
    "for sub_ in subjects.keys():\n",
    "    file_path = subjects[sub_]['epoch']\n",
    "    mat_reject = subjects[sub_]['reject']\n",
    "    mat_stage = subjects[sub_]['stage']\n",
    "\n",
    "    files = load_subject_dir(file_path, mat_reject, mat_stage)\n",
    "    epochs = files['epochs']\n",
    "    rejects = files['rejects']\n",
    "\n",
    "    index, scaling_time, scalings = ['epoch', 'time'], 1e3, dict(grad=1e13)\n",
    "    df = epochs.to_data_frame(\n",
    "        picks=None, scalings=scalings, scaling_time=scaling_time, index=index)\n",
    "    df_epochs = df.groupby('epoch').mean()\n",
    "\n",
    "    try:\n",
    "        stages = files['stages']\n",
    "        df_epochs['stage'] = stages\n",
    "    except Exception as ex:\n",
    "        print(ex)\n",
    "\n",
    "    try:\n",
    "        df_epochs = bad_channel_median(bad_channels_stephanie[sub_], df_epochs)\n",
    "    except Exception as ex:\n",
    "        print(ex)\n",
    "    \n",
    "    epoched_dataframes.append([df_epochs, rejects])"
   ]
  },
  {
   "cell_type": "markdown",
   "metadata": {},
   "source": [
    "<h3><left>II. Model Selection & Training</left></h3>"
   ]
  },
  {
   "cell_type": "code",
   "execution_count": null,
   "metadata": {
    "scrolled": true
   },
   "outputs": [],
   "source": [
    "# clfSVC = SVC(C=1.0, kernel='poly', gamma='auto_deprecated', coef0=1.0, shrinking=True, probability=False, \n",
    "#              tol=0.001, cache_size=200, class_weight=None, verbose=False, max_iter=-1, decision_function_shape='ovr', \n",
    "#              random_state=42)"
   ]
  },
  {
   "cell_type": "code",
   "execution_count": null,
   "metadata": {},
   "outputs": [],
   "source": [
    "clfSVC = SVC(C=100, cache_size=200, class_weight='balanced', coef0=0.0, decision_function_shape='ovr', degree=3, \n",
    "    gamma='auto_deprecated', kernel='rbf', max_iter=-1, probability=False, random_state=42, shrinking=True, \n",
    "    tol=0.001, verbose=False)"
   ]
  },
  {
   "cell_type": "code",
   "execution_count": null,
   "metadata": {
    "scrolled": true
   },
   "outputs": [],
   "source": [
    "for pair in epoched_dataframes:\n",
    "    X_train, y_train = pair[0], pair[1]\n",
    "    clfSVC.fit(X_train, y_train)"
   ]
  },
  {
   "cell_type": "code",
   "execution_count": null,
   "metadata": {
    "scrolled": true
   },
   "outputs": [],
   "source": [
    "from sklearn.model_selection import GridSearchCV\n",
    "print(\"Fitting the classifier to the training set\")\n",
    "param_grid = {'C': [0.01, 0.1, 1, 10, 100], 'kernel': ['rbf', 'linear']}\n",
    "clf = GridSearchCV(SVC(class_weight='balanced'), param_grid)\n",
    "clf = clf.fit(X_train, y_train)\n",
    "print(\"Best estimator found by grid search:\")\n",
    "print(clf.best_estimator_)"
   ]
  },
  {
   "cell_type": "markdown",
   "metadata": {},
   "source": [
    "<h3><left>III. Model Testing & Evaluation</left></h3>"
   ]
  },
  {
   "cell_type": "markdown",
   "metadata": {},
   "source": [
    "- **Precision** _(how many selected items are relevant?)_:\n",
    "\n",
    "$$\\frac{\\text{True Positives}}{\\text{Trust Positives + False Positives}}$$"
   ]
  },
  {
   "cell_type": "markdown",
   "metadata": {},
   "source": [
    "- **Recall** _(how many relevant items are selected?)_:\n",
    "\n",
    "$$\\frac{\\text{True Positives}}{\\text{Trust Positives + False Negatives}}$$"
   ]
  },
  {
   "cell_type": "code",
   "execution_count": null,
   "metadata": {
    "scrolled": true
   },
   "outputs": [],
   "source": [
    "test_subjects = dict()\n",
    "for sub_test in test_sub_folders:\n",
    "    sub_id, path_ = sub_test[0], sub_test[1]\n",
    "    files = os.listdir(Path(path_))\n",
    "    sub_files = dict()\n",
    "    for file in files:\n",
    "        full_path = os.path.join(Path(path_), file)\n",
    "        if 'epoch' in file:\n",
    "            sub_files['epoch'] = full_path\n",
    "        if 'reject' in file:\n",
    "            sub_files['reject'] = full_path\n",
    "        elif 'stages' in file:\n",
    "            sub_files['stage'] = full_path\n",
    "    test_subjects[sub_id] = sub_files"
   ]
  },
  {
   "cell_type": "code",
   "execution_count": null,
   "metadata": {
    "scrolled": true
   },
   "outputs": [],
   "source": [
    "epoched_dataframes_ = list()\n",
    "for sub_test_ in test_subjects.keys():\n",
    "    file_path = test_subjects[sub_test_]['epoch']\n",
    "    mat_reject = test_subjects[sub_test_]['reject']\n",
    "    mat_stage = test_subjects[sub_test_]['stage']\n",
    "\n",
    "    files = load_subject_dir(file_path, mat_reject, mat_stage)\n",
    "    epochs = files['epochs']\n",
    "    rejects = files['rejects']\n",
    "\n",
    "    index, scaling_time, scalings = ['epoch', 'time'], 1e3, dict(grad=1e13)\n",
    "    df = epochs.to_data_frame(\n",
    "        picks=None, scalings=scalings, scaling_time=scaling_time, index=index)\n",
    "    df_epochs = df.groupby('epoch').mean()\n",
    "\n",
    "    try:\n",
    "        stages = files['stages']\n",
    "        df_epochs['stage'] = stages\n",
    "    except Exception as ex:\n",
    "        print(ex)\n",
    "\n",
    "    try:\n",
    "        df_epochs = bad_channel_median(bad_channels_stephanie[file_path], df_epochs)\n",
    "    except Exception as ex:\n",
    "        print(ex)\n",
    "    \n",
    "    epoched_dataframes_.append([df_epochs, rejects])"
   ]
  },
  {
   "cell_type": "code",
   "execution_count": null,
   "metadata": {
    "scrolled": true
   },
   "outputs": [],
   "source": [
    "clf_precision_score, clf_recall_score = list(), list()\n",
    "for pair_test in epoched_dataframes_:\n",
    "    X_test, y_test = pair_test[0], pair_test[1]\n",
    "    y_pred = clfSVC.predict(X_test)\n",
    "    clf_precision_score += [precision_score(y_test, y_pred)]\n",
    "    clf_recall_score += [recall_score(y_test, y_pred)]"
   ]
  },
  {
   "cell_type": "code",
   "execution_count": null,
   "metadata": {},
   "outputs": [],
   "source": [
    "f = open('output.txt','w')\n",
    "f.write('Recall Scores:\\n' + repr(clf_recall_score) + '\\n' + '\\nPrecision Scores:\\n' + repr(clf_precision_score) + '\\n')\n",
    "f.close()"
   ]
  },
  {
   "cell_type": "code",
   "execution_count": null,
   "metadata": {
    "scrolled": false
   },
   "outputs": [],
   "source": [
    "print('Recall Scores:')    \n",
    "for scr in clf_recall_score:\n",
    "    print(scr)\n",
    "    \n",
    "print('\\nPrecision Scores:')\n",
    "for scr in clf_precision_score:\n",
    "    print(scr)"
   ]
  }
 ],
 "metadata": {
  "hide_input": false,
  "kernelspec": {
   "display_name": "Python 3",
   "language": "python",
   "name": "python3"
  },
  "language_info": {
   "codemirror_mode": {
    "name": "ipython",
    "version": 3
   },
   "file_extension": ".py",
   "mimetype": "text/x-python",
   "name": "python",
   "nbconvert_exporter": "python",
   "pygments_lexer": "ipython3",
   "version": "3.7.1"
  },
  "latex_envs": {
   "LaTeX_envs_menu_present": true,
   "autoclose": false,
   "autocomplete": true,
   "bibliofile": "biblio.bib",
   "cite_by": "apalike",
   "current_citInitial": 1,
   "eqLabelWithNumbers": true,
   "eqNumInitial": 1,
   "hotkeys": {
    "equation": "Ctrl-E",
    "itemize": "Ctrl-I"
   },
   "labels_anchors": false,
   "latex_user_defs": false,
   "report_style_numbering": false,
   "user_envs_cfg": false
  }
 },
 "nbformat": 4,
 "nbformat_minor": 2
}
