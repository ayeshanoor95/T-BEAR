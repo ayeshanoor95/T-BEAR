{
 "cells": [
  {
   "cell_type": "markdown",
   "metadata": {},
   "source": [
    "<h1><center>EEG Artifact Rejection Demo</center></h1>"
   ]
  },
  {
   "cell_type": "code",
   "execution_count": 1,
   "metadata": {
    "scrolled": false
   },
   "outputs": [
    {
     "name": "stderr",
     "output_type": "stream",
     "text": [
      "c:\\users\\peter\\anaconda3\\envs\\mne\\lib\\site-packages\\deap\\tools\\_hypervolume\\pyhv.py:33: ImportWarning: Falling back to the python version of hypervolume module. Expect this to be very slow.\n",
      "  \"module. Expect this to be very slow.\", ImportWarning)\n",
      "c:\\users\\peter\\anaconda3\\envs\\mne\\lib\\importlib\\_bootstrap.py:219: ImportWarning: can't resolve package from __spec__ or __package__, falling back on __name__ and __path__\n",
      "  return f(*args, **kwds)\n"
     ]
    }
   ],
   "source": [
    "%run -i utils.py"
   ]
  },
  {
   "cell_type": "markdown",
   "metadata": {
    "scrolled": true
   },
   "source": [
    "<h3><left>I. Data Wrangling</left></h3>"
   ]
  },
  {
   "cell_type": "code",
   "execution_count": 2,
   "metadata": {
    "scrolled": true
   },
   "outputs": [],
   "source": [
    "# Use the median for each of the bad channels\n",
    "bad_channels_stephanie = {\n",
    "    'Rew_605_rest': ['Fp1', 'Fp2'],\n",
    "    'Rew_609_rest': ['F3', 'F7', 'Fp1'],\n",
    "    'Rew_611_rest': ['Fp2', 'T3'],\n",
    "    'Rew_613_rest': ['F7', 'Fp2'],\n",
    "    'Rew_614_rest': ['C3', 'CZ', 'F3', 'F7', 'F8', 'FZ', 'Fp1', 'O1', 'P3', 'PZ', 'T3', 'T5'],\n",
    "    'Rew_615_rest': ['C4', 'F4', 'F8', 'Fp2', 'O2', 'P4', 'T4', 'T6'],\n",
    "    'Rew_619_rest': ['F4'],\n",
    "    'Rew_622_rest': ['F7'],\n",
    "    'Rew_624_rest': ['F3', 'F7', 'Fp1', 'T3', 'T4', 'T5', 'T6'],\n",
    "    'Rew_626_rest': ['F3', 'F4', 'T3', 'T4', 'T5'],\n",
    "    'Rew_701_rest': ['C4', 'F7', 'F8', 'O1', 'O2', 'T3', 'T3', 'T4', 'T5'],\n",
    "    'Rew_702_rest': ['C3', 'F3'],\n",
    "    'Rew_703_rest': ['F4', 'F7', 'F8', 'Fp2', 'T3', 'T4', 'T6'],\n",
    "    'Rew_704_rest': ['C3'],\n",
    "    'Rew_706_rest': ['T4']\n",
    "}"
   ]
  },
  {
   "cell_type": "code",
   "execution_count": 3,
   "metadata": {
    "scrolled": true
   },
   "outputs": [],
   "source": [
    "# Load researcher and subject folders\n",
    "stephanie_folder = Path(\"C:\\\\Users\\\\peter\\\\git\\\\EEG-artifact-rejection\\\\artifact-rejection\\\\eeg-data\\\\Stephanie\")\n",
    "sub_folders = [[file, os.path.join(stephanie_folder, file)] for file in os.listdir(stephanie_folder)]\n",
    "train_sub_folders , test_sub_folders = train_test_split(sub_folders)"
   ]
  },
  {
   "cell_type": "markdown",
   "metadata": {},
   "source": [
    "<h4><left>Data Architecture</left></h4>"
   ]
  },
  {
   "cell_type": "code",
   "execution_count": 4,
   "metadata": {
    "scrolled": true
   },
   "outputs": [],
   "source": [
    "subjects = dict()\n",
    "for sub in train_sub_folders:\n",
    "    sub_id, path_ = sub[0], sub[1]\n",
    "    files = os.listdir(Path(path_))\n",
    "    sub_files = dict()\n",
    "    for file in files:\n",
    "        full_path = os.path.join(Path(path_), file)\n",
    "        if 'epoch' in file:\n",
    "            sub_files['epoch'] = full_path\n",
    "        if 'reject' in file:\n",
    "            sub_files['reject'] = full_path\n",
    "        elif 'stages' in file:\n",
    "            sub_files['stage'] = full_path\n",
    "    subjects[sub_id] = sub_files"
   ]
  },
  {
   "cell_type": "markdown",
   "metadata": {},
   "source": [
    "<h4><left>Data Processing</left></h4>"
   ]
  },
  {
   "cell_type": "code",
   "execution_count": 5,
   "metadata": {
    "scrolled": true
   },
   "outputs": [
    {
     "name": "stderr",
     "output_type": "stream",
     "text": [
      "C:\\Users\\peter\\git\\EEG-artifact-rejection\\artifact-rejection\\utils.py:50: RuntimeWarning: At least one epoch has multiple events. Only the latency of the first event will be retained.\n",
      "  set_file = mne.io.read_epochs_eeglab(file_path)\n"
     ]
    },
    {
     "name": "stdout",
     "output_type": "stream",
     "text": [
      "At least one epoch has multiple events. Only the latency of the first event will be retained.\n",
      "Extracting parameters from C:\\Users\\peter\\git\\EEG-artifact-rejection\\artifact-rejection\\eeg-data\\Stephanie\\Rew_626_rest\\Rew_626_rest_bb_epoch.set...\n",
      "6360 matching events found\n",
      "No baseline correction applied\n",
      "Not setting metadata\n",
      "0 projection items activated\n",
      "Ready.\n",
      "Converting time column to int64...\n"
     ]
    },
    {
     "name": "stderr",
     "output_type": "stream",
     "text": [
      "C:\\Users\\peter\\git\\EEG-artifact-rejection\\artifact-rejection\\utils.py:50: RuntimeWarning: At least one epoch has multiple events. Only the latency of the first event will be retained.\n",
      "  set_file = mne.io.read_epochs_eeglab(file_path)\n"
     ]
    },
    {
     "name": "stdout",
     "output_type": "stream",
     "text": [
      "At least one epoch has multiple events. Only the latency of the first event will be retained.\n",
      "Extracting parameters from C:\\Users\\peter\\git\\EEG-artifact-rejection\\artifact-rejection\\eeg-data\\Stephanie\\Rew_616_rest\\Rew_616_rest_bb_epoch.set...\n",
      "7192 matching events found\n",
      "No baseline correction applied\n",
      "Not setting metadata\n",
      "0 projection items activated\n",
      "Ready.\n",
      "Converting time column to int64...\n",
      "'Rew_616_rest'\n"
     ]
    },
    {
     "name": "stderr",
     "output_type": "stream",
     "text": [
      "C:\\Users\\peter\\git\\EEG-artifact-rejection\\artifact-rejection\\utils.py:50: RuntimeWarning: At least one epoch has multiple events. Only the latency of the first event will be retained.\n",
      "  set_file = mne.io.read_epochs_eeglab(file_path)\n"
     ]
    },
    {
     "name": "stdout",
     "output_type": "stream",
     "text": [
      "At least one epoch has multiple events. Only the latency of the first event will be retained.\n",
      "Extracting parameters from C:\\Users\\peter\\git\\EEG-artifact-rejection\\artifact-rejection\\eeg-data\\Stephanie\\Rew_704_rest\\Rew_704_rest_bb_epoch.set...\n",
      "6544 matching events found\n",
      "No baseline correction applied\n",
      "Not setting metadata\n",
      "0 projection items activated\n",
      "Ready.\n",
      "Converting time column to int64...\n"
     ]
    },
    {
     "name": "stderr",
     "output_type": "stream",
     "text": [
      "C:\\Users\\peter\\git\\EEG-artifact-rejection\\artifact-rejection\\utils.py:50: RuntimeWarning: At least one epoch has multiple events. Only the latency of the first event will be retained.\n",
      "  set_file = mne.io.read_epochs_eeglab(file_path)\n"
     ]
    },
    {
     "name": "stdout",
     "output_type": "stream",
     "text": [
      "At least one epoch has multiple events. Only the latency of the first event will be retained.\n",
      "Extracting parameters from C:\\Users\\peter\\git\\EEG-artifact-rejection\\artifact-rejection\\eeg-data\\Stephanie\\Rew_706_rest\\Rew_706_rest_bb_epoch.set...\n",
      "6304 matching events found\n",
      "No baseline correction applied\n",
      "Not setting metadata\n",
      "0 projection items activated\n",
      "Ready.\n",
      "Converting time column to int64...\n"
     ]
    },
    {
     "name": "stderr",
     "output_type": "stream",
     "text": [
      "C:\\Users\\peter\\git\\EEG-artifact-rejection\\artifact-rejection\\utils.py:50: RuntimeWarning: At least one epoch has multiple events. Only the latency of the first event will be retained.\n",
      "  set_file = mne.io.read_epochs_eeglab(file_path)\n"
     ]
    },
    {
     "name": "stdout",
     "output_type": "stream",
     "text": [
      "At least one epoch has multiple events. Only the latency of the first event will be retained.\n",
      "Extracting parameters from C:\\Users\\peter\\git\\EEG-artifact-rejection\\artifact-rejection\\eeg-data\\Stephanie\\Rew_610_rest\\Rew_610_rest_bb_epoch.set...\n",
      "7196 matching events found\n",
      "No baseline correction applied\n",
      "Not setting metadata\n",
      "0 projection items activated\n",
      "Ready.\n",
      "Converting time column to int64...\n",
      "'Rew_610_rest'\n"
     ]
    },
    {
     "name": "stderr",
     "output_type": "stream",
     "text": [
      "C:\\Users\\peter\\git\\EEG-artifact-rejection\\artifact-rejection\\utils.py:50: RuntimeWarning: At least one epoch has multiple events. Only the latency of the first event will be retained.\n",
      "  set_file = mne.io.read_epochs_eeglab(file_path)\n"
     ]
    },
    {
     "name": "stdout",
     "output_type": "stream",
     "text": [
      "At least one epoch has multiple events. Only the latency of the first event will be retained.\n",
      "Extracting parameters from C:\\Users\\peter\\git\\EEG-artifact-rejection\\artifact-rejection\\eeg-data\\Stephanie\\Rew_703_rest\\Rew_703_rest_bb_epoch.set...\n",
      "5808 matching events found\n",
      "No baseline correction applied\n",
      "Not setting metadata\n",
      "0 projection items activated\n",
      "Ready.\n",
      "Converting time column to int64...\n"
     ]
    },
    {
     "name": "stderr",
     "output_type": "stream",
     "text": [
      "C:\\Users\\peter\\git\\EEG-artifact-rejection\\artifact-rejection\\utils.py:50: RuntimeWarning: At least one epoch has multiple events. Only the latency of the first event will be retained.\n",
      "  set_file = mne.io.read_epochs_eeglab(file_path)\n"
     ]
    },
    {
     "name": "stdout",
     "output_type": "stream",
     "text": [
      "At least one epoch has multiple events. Only the latency of the first event will be retained.\n",
      "Extracting parameters from C:\\Users\\peter\\git\\EEG-artifact-rejection\\artifact-rejection\\eeg-data\\Stephanie\\Rew_615_rest\\Rew_615_rest_bb_epoch.set...\n",
      "6332 matching events found\n",
      "No baseline correction applied\n",
      "Not setting metadata\n",
      "0 projection items activated\n",
      "Ready.\n",
      "Converting time column to int64...\n"
     ]
    },
    {
     "name": "stderr",
     "output_type": "stream",
     "text": [
      "C:\\Users\\peter\\git\\EEG-artifact-rejection\\artifact-rejection\\utils.py:50: RuntimeWarning: At least one epoch has multiple events. Only the latency of the first event will be retained.\n",
      "  set_file = mne.io.read_epochs_eeglab(file_path)\n"
     ]
    },
    {
     "name": "stdout",
     "output_type": "stream",
     "text": [
      "At least one epoch has multiple events. Only the latency of the first event will be retained.\n",
      "Extracting parameters from C:\\Users\\peter\\git\\EEG-artifact-rejection\\artifact-rejection\\eeg-data\\Stephanie\\Rew_608_rest\\Rew_608_rest_bb_epoch.set...\n",
      "7184 matching events found\n",
      "No baseline correction applied\n",
      "Not setting metadata\n",
      "0 projection items activated\n",
      "Ready.\n",
      "Converting time column to int64...\n",
      "'Rew_608_rest'\n"
     ]
    },
    {
     "name": "stderr",
     "output_type": "stream",
     "text": [
      "C:\\Users\\peter\\git\\EEG-artifact-rejection\\artifact-rejection\\utils.py:50: RuntimeWarning: At least one epoch has multiple events. Only the latency of the first event will be retained.\n",
      "  set_file = mne.io.read_epochs_eeglab(file_path)\n"
     ]
    },
    {
     "name": "stdout",
     "output_type": "stream",
     "text": [
      "At least one epoch has multiple events. Only the latency of the first event will be retained.\n",
      "Extracting parameters from C:\\Users\\peter\\git\\EEG-artifact-rejection\\artifact-rejection\\eeg-data\\Stephanie\\Rew_613_rest\\Rew_613_rest_bb_epoch.set...\n",
      "7212 matching events found\n",
      "No baseline correction applied\n",
      "Not setting metadata\n",
      "0 projection items activated\n",
      "Ready.\n",
      "Converting time column to int64...\n"
     ]
    },
    {
     "name": "stderr",
     "output_type": "stream",
     "text": [
      "C:\\Users\\peter\\git\\EEG-artifact-rejection\\artifact-rejection\\utils.py:50: RuntimeWarning: At least one epoch has multiple events. Only the latency of the first event will be retained.\n",
      "  set_file = mne.io.read_epochs_eeglab(file_path)\n"
     ]
    },
    {
     "name": "stdout",
     "output_type": "stream",
     "text": [
      "At least one epoch has multiple events. Only the latency of the first event will be retained.\n",
      "Extracting parameters from C:\\Users\\peter\\git\\EEG-artifact-rejection\\artifact-rejection\\eeg-data\\Stephanie\\Rew_607_rest\\Rew_607_rest_bb_epoch.set...\n",
      "6356 matching events found\n",
      "No baseline correction applied\n",
      "Not setting metadata\n",
      "0 projection items activated\n",
      "Ready.\n",
      "Converting time column to int64...\n",
      "'Rew_607_rest'\n"
     ]
    },
    {
     "name": "stderr",
     "output_type": "stream",
     "text": [
      "C:\\Users\\peter\\git\\EEG-artifact-rejection\\artifact-rejection\\utils.py:50: RuntimeWarning: At least one epoch has multiple events. Only the latency of the first event will be retained.\n",
      "  set_file = mne.io.read_epochs_eeglab(file_path)\n"
     ]
    },
    {
     "name": "stdout",
     "output_type": "stream",
     "text": [
      "At least one epoch has multiple events. Only the latency of the first event will be retained.\n",
      "Extracting parameters from C:\\Users\\peter\\git\\EEG-artifact-rejection\\artifact-rejection\\eeg-data\\Stephanie\\Rew_702_rest\\Rew_702_rest_bb_epoch.set...\n",
      "7180 matching events found\n",
      "No baseline correction applied\n",
      "Not setting metadata\n",
      "0 projection items activated\n",
      "Ready.\n",
      "Converting time column to int64...\n"
     ]
    },
    {
     "name": "stderr",
     "output_type": "stream",
     "text": [
      "C:\\Users\\peter\\git\\EEG-artifact-rejection\\artifact-rejection\\utils.py:50: RuntimeWarning: At least one epoch has multiple events. Only the latency of the first event will be retained.\n",
      "  set_file = mne.io.read_epochs_eeglab(file_path)\n"
     ]
    },
    {
     "name": "stdout",
     "output_type": "stream",
     "text": [
      "At least one epoch has multiple events. Only the latency of the first event will be retained.\n",
      "Extracting parameters from C:\\Users\\peter\\git\\EEG-artifact-rejection\\artifact-rejection\\eeg-data\\Stephanie\\Rew_606_rest\\Rew_606_rest_bb_epoch.set...\n",
      "5764 matching events found\n",
      "No baseline correction applied\n",
      "Not setting metadata\n",
      "0 projection items activated\n",
      "Ready.\n",
      "Converting time column to int64...\n",
      "'Rew_606_rest'\n"
     ]
    },
    {
     "name": "stderr",
     "output_type": "stream",
     "text": [
      "C:\\Users\\peter\\git\\EEG-artifact-rejection\\artifact-rejection\\utils.py:50: RuntimeWarning: At least one epoch has multiple events. Only the latency of the first event will be retained.\n",
      "  set_file = mne.io.read_epochs_eeglab(file_path)\n"
     ]
    },
    {
     "name": "stdout",
     "output_type": "stream",
     "text": [
      "At least one epoch has multiple events. Only the latency of the first event will be retained.\n",
      "Extracting parameters from C:\\Users\\peter\\git\\EEG-artifact-rejection\\artifact-rejection\\eeg-data\\Stephanie\\Rew_701_rest\\Rew_701_rest_bb_epoch.set...\n",
      "6368 matching events found\n",
      "No baseline correction applied\n",
      "Not setting metadata\n",
      "0 projection items activated\n",
      "Ready.\n",
      "Converting time column to int64...\n"
     ]
    },
    {
     "name": "stderr",
     "output_type": "stream",
     "text": [
      "C:\\Users\\peter\\git\\EEG-artifact-rejection\\artifact-rejection\\utils.py:50: RuntimeWarning: At least one epoch has multiple events. Only the latency of the first event will be retained.\n",
      "  set_file = mne.io.read_epochs_eeglab(file_path)\n"
     ]
    },
    {
     "name": "stdout",
     "output_type": "stream",
     "text": [
      "At least one epoch has multiple events. Only the latency of the first event will be retained.\n",
      "Extracting parameters from C:\\Users\\peter\\git\\EEG-artifact-rejection\\artifact-rejection\\eeg-data\\Stephanie\\Rew_609_rest\\Rew_609_rest_bb_epoch.set...\n",
      "6348 matching events found\n",
      "No baseline correction applied\n",
      "Not setting metadata\n",
      "0 projection items activated\n",
      "Ready.\n",
      "Converting time column to int64...\n"
     ]
    },
    {
     "name": "stderr",
     "output_type": "stream",
     "text": [
      "C:\\Users\\peter\\git\\EEG-artifact-rejection\\artifact-rejection\\utils.py:50: RuntimeWarning: At least one epoch has multiple events. Only the latency of the first event will be retained.\n",
      "  set_file = mne.io.read_epochs_eeglab(file_path)\n"
     ]
    },
    {
     "name": "stdout",
     "output_type": "stream",
     "text": [
      "At least one epoch has multiple events. Only the latency of the first event will be retained.\n",
      "Extracting parameters from C:\\Users\\peter\\git\\EEG-artifact-rejection\\artifact-rejection\\eeg-data\\Stephanie\\Rew_604_rest\\Rew_604_rest_bb_epoch.set...\n",
      "6624 matching events found\n",
      "No baseline correction applied\n",
      "Not setting metadata\n",
      "0 projection items activated\n",
      "Ready.\n",
      "Converting time column to int64...\n",
      "'Rew_604_rest'\n"
     ]
    },
    {
     "name": "stderr",
     "output_type": "stream",
     "text": [
      "C:\\Users\\peter\\git\\EEG-artifact-rejection\\artifact-rejection\\utils.py:50: RuntimeWarning: At least one epoch has multiple events. Only the latency of the first event will be retained.\n",
      "  set_file = mne.io.read_epochs_eeglab(file_path)\n"
     ]
    },
    {
     "name": "stdout",
     "output_type": "stream",
     "text": [
      "At least one epoch has multiple events. Only the latency of the first event will be retained.\n",
      "Extracting parameters from C:\\Users\\peter\\git\\EEG-artifact-rejection\\artifact-rejection\\eeg-data\\Stephanie\\Rew_624_rest\\Rew_624_rest_bb_epoch.set...\n",
      "6356 matching events found\n",
      "No baseline correction applied\n",
      "Not setting metadata\n",
      "0 projection items activated\n",
      "Ready.\n",
      "Converting time column to int64...\n"
     ]
    },
    {
     "name": "stderr",
     "output_type": "stream",
     "text": [
      "C:\\Users\\peter\\git\\EEG-artifact-rejection\\artifact-rejection\\utils.py:50: RuntimeWarning: At least one epoch has multiple events. Only the latency of the first event will be retained.\n",
      "  set_file = mne.io.read_epochs_eeglab(file_path)\n"
     ]
    },
    {
     "name": "stdout",
     "output_type": "stream",
     "text": [
      "At least one epoch has multiple events. Only the latency of the first event will be retained.\n",
      "Extracting parameters from C:\\Users\\peter\\git\\EEG-artifact-rejection\\artifact-rejection\\eeg-data\\Stephanie\\Rew_611_rest\\Rew_611_rest_bb_epoch.set...\n",
      "5776 matching events found\n",
      "No baseline correction applied\n",
      "Not setting metadata\n",
      "0 projection items activated\n",
      "Ready.\n",
      "Converting time column to int64...\n"
     ]
    },
    {
     "name": "stderr",
     "output_type": "stream",
     "text": [
      "C:\\Users\\peter\\git\\EEG-artifact-rejection\\artifact-rejection\\utils.py:50: RuntimeWarning: At least one epoch has multiple events. Only the latency of the first event will be retained.\n",
      "  set_file = mne.io.read_epochs_eeglab(file_path)\n"
     ]
    },
    {
     "name": "stdout",
     "output_type": "stream",
     "text": [
      "At least one epoch has multiple events. Only the latency of the first event will be retained.\n",
      "Extracting parameters from C:\\Users\\peter\\git\\EEG-artifact-rejection\\artifact-rejection\\eeg-data\\Stephanie\\Rew_605_rest\\Rew_605_rest_bb_epoch.set...\n",
      "7224 matching events found\n",
      "No baseline correction applied\n",
      "Not setting metadata\n",
      "0 projection items activated\n",
      "Ready.\n",
      "Converting time column to int64...\n"
     ]
    },
    {
     "name": "stderr",
     "output_type": "stream",
     "text": [
      "C:\\Users\\peter\\git\\EEG-artifact-rejection\\artifact-rejection\\utils.py:50: RuntimeWarning: At least one epoch has multiple events. Only the latency of the first event will be retained.\n",
      "  set_file = mne.io.read_epochs_eeglab(file_path)\n"
     ]
    },
    {
     "name": "stdout",
     "output_type": "stream",
     "text": [
      "At least one epoch has multiple events. Only the latency of the first event will be retained.\n",
      "Extracting parameters from C:\\Users\\peter\\git\\EEG-artifact-rejection\\artifact-rejection\\eeg-data\\Stephanie\\Rew_622_rest\\Rew_622_rest_bb_epoch.set...\n",
      "6372 matching events found\n",
      "No baseline correction applied\n",
      "Not setting metadata\n",
      "0 projection items activated\n",
      "Ready.\n",
      "Converting time column to int64...\n"
     ]
    }
   ],
   "source": [
    "epoched_dataframes = list()\n",
    "for sub_ in subjects.keys():\n",
    "    file_path = subjects[sub_]['epoch']\n",
    "    mat_reject = subjects[sub_]['reject']\n",
    "    mat_stage = subjects[sub_]['stage']\n",
    "\n",
    "    files = load_subject_dir(file_path, mat_reject, mat_stage)\n",
    "    epochs = files['epochs']\n",
    "    rejects = files['rejects']\n",
    "\n",
    "    index, scaling_time, scalings = ['epoch', 'time'], 1e3, dict(grad=1e13)\n",
    "    df = epochs.to_data_frame(\n",
    "        picks=None, scalings=scalings, scaling_time=scaling_time, index=index)\n",
    "    df_epochs = df.groupby('epoch').mean()\n",
    "\n",
    "    try:\n",
    "        stages = files['stages']\n",
    "        df_epochs['stage'] = stages\n",
    "    except Exception as ex:\n",
    "        print(ex)\n",
    "\n",
    "    try:\n",
    "        df_epochs = bad_channel_median(bad_channels_stephanie[sub_], df_epochs)\n",
    "    except Exception as ex:\n",
    "        print(ex)\n",
    "    \n",
    "    epoched_dataframes.append([df_epochs, rejects])"
   ]
  },
  {
   "cell_type": "markdown",
   "metadata": {},
   "source": [
    "<h3><left>II. Model Selection & Training</left></h3>"
   ]
  },
  {
   "cell_type": "code",
   "execution_count": 6,
   "metadata": {
    "scrolled": true
   },
   "outputs": [],
   "source": [
    "# clfSVC = SVC(C=1.0, kernel='poly', gamma='auto_deprecated', coef0=1.0, shrinking=True, probability=False, \n",
    "#              tol=0.001, cache_size=200, class_weight=None, verbose=False, max_iter=-1, decision_function_shape='ovr', \n",
    "#              random_state=42)"
   ]
  },
  {
   "cell_type": "code",
   "execution_count": 7,
   "metadata": {},
   "outputs": [],
   "source": [
    "clfSVC = SVC(C=100, cache_size=200, class_weight='balanced', coef0=0.0, decision_function_shape='ovr', degree=3, \n",
    "    gamma='auto_deprecated', kernel='rbf', max_iter=-1, probability=False, random_state=42, shrinking=True, \n",
    "    tol=0.001, verbose=False)"
   ]
  },
  {
   "cell_type": "code",
   "execution_count": 8,
   "metadata": {
    "scrolled": true
   },
   "outputs": [
    {
     "name": "stderr",
     "output_type": "stream",
     "text": [
      "c:\\users\\peter\\anaconda3\\envs\\mne\\lib\\site-packages\\sklearn\\svm\\base.py:196: FutureWarning: The default value of gamma will change from 'auto' to 'scale' in version 0.22 to account better for unscaled features. Set gamma explicitly to 'auto' or 'scale' to avoid this warning.\n",
      "  \"avoid this warning.\", FutureWarning)\n",
      "c:\\users\\peter\\anaconda3\\envs\\mne\\lib\\site-packages\\sklearn\\svm\\base.py:196: FutureWarning: The default value of gamma will change from 'auto' to 'scale' in version 0.22 to account better for unscaled features. Set gamma explicitly to 'auto' or 'scale' to avoid this warning.\n",
      "  \"avoid this warning.\", FutureWarning)\n",
      "c:\\users\\peter\\anaconda3\\envs\\mne\\lib\\site-packages\\sklearn\\svm\\base.py:196: FutureWarning: The default value of gamma will change from 'auto' to 'scale' in version 0.22 to account better for unscaled features. Set gamma explicitly to 'auto' or 'scale' to avoid this warning.\n",
      "  \"avoid this warning.\", FutureWarning)\n",
      "c:\\users\\peter\\anaconda3\\envs\\mne\\lib\\site-packages\\sklearn\\svm\\base.py:196: FutureWarning: The default value of gamma will change from 'auto' to 'scale' in version 0.22 to account better for unscaled features. Set gamma explicitly to 'auto' or 'scale' to avoid this warning.\n",
      "  \"avoid this warning.\", FutureWarning)\n",
      "c:\\users\\peter\\anaconda3\\envs\\mne\\lib\\site-packages\\sklearn\\svm\\base.py:196: FutureWarning: The default value of gamma will change from 'auto' to 'scale' in version 0.22 to account better for unscaled features. Set gamma explicitly to 'auto' or 'scale' to avoid this warning.\n",
      "  \"avoid this warning.\", FutureWarning)\n",
      "c:\\users\\peter\\anaconda3\\envs\\mne\\lib\\site-packages\\sklearn\\svm\\base.py:196: FutureWarning: The default value of gamma will change from 'auto' to 'scale' in version 0.22 to account better for unscaled features. Set gamma explicitly to 'auto' or 'scale' to avoid this warning.\n",
      "  \"avoid this warning.\", FutureWarning)\n",
      "c:\\users\\peter\\anaconda3\\envs\\mne\\lib\\site-packages\\sklearn\\svm\\base.py:196: FutureWarning: The default value of gamma will change from 'auto' to 'scale' in version 0.22 to account better for unscaled features. Set gamma explicitly to 'auto' or 'scale' to avoid this warning.\n",
      "  \"avoid this warning.\", FutureWarning)\n",
      "c:\\users\\peter\\anaconda3\\envs\\mne\\lib\\site-packages\\sklearn\\svm\\base.py:196: FutureWarning: The default value of gamma will change from 'auto' to 'scale' in version 0.22 to account better for unscaled features. Set gamma explicitly to 'auto' or 'scale' to avoid this warning.\n",
      "  \"avoid this warning.\", FutureWarning)\n",
      "c:\\users\\peter\\anaconda3\\envs\\mne\\lib\\site-packages\\sklearn\\svm\\base.py:196: FutureWarning: The default value of gamma will change from 'auto' to 'scale' in version 0.22 to account better for unscaled features. Set gamma explicitly to 'auto' or 'scale' to avoid this warning.\n",
      "  \"avoid this warning.\", FutureWarning)\n",
      "c:\\users\\peter\\anaconda3\\envs\\mne\\lib\\site-packages\\sklearn\\svm\\base.py:196: FutureWarning: The default value of gamma will change from 'auto' to 'scale' in version 0.22 to account better for unscaled features. Set gamma explicitly to 'auto' or 'scale' to avoid this warning.\n",
      "  \"avoid this warning.\", FutureWarning)\n",
      "c:\\users\\peter\\anaconda3\\envs\\mne\\lib\\site-packages\\sklearn\\svm\\base.py:196: FutureWarning: The default value of gamma will change from 'auto' to 'scale' in version 0.22 to account better for unscaled features. Set gamma explicitly to 'auto' or 'scale' to avoid this warning.\n",
      "  \"avoid this warning.\", FutureWarning)\n",
      "c:\\users\\peter\\anaconda3\\envs\\mne\\lib\\site-packages\\sklearn\\svm\\base.py:196: FutureWarning: The default value of gamma will change from 'auto' to 'scale' in version 0.22 to account better for unscaled features. Set gamma explicitly to 'auto' or 'scale' to avoid this warning.\n",
      "  \"avoid this warning.\", FutureWarning)\n",
      "c:\\users\\peter\\anaconda3\\envs\\mne\\lib\\site-packages\\sklearn\\svm\\base.py:196: FutureWarning: The default value of gamma will change from 'auto' to 'scale' in version 0.22 to account better for unscaled features. Set gamma explicitly to 'auto' or 'scale' to avoid this warning.\n",
      "  \"avoid this warning.\", FutureWarning)\n",
      "c:\\users\\peter\\anaconda3\\envs\\mne\\lib\\site-packages\\sklearn\\svm\\base.py:196: FutureWarning: The default value of gamma will change from 'auto' to 'scale' in version 0.22 to account better for unscaled features. Set gamma explicitly to 'auto' or 'scale' to avoid this warning.\n",
      "  \"avoid this warning.\", FutureWarning)\n",
      "c:\\users\\peter\\anaconda3\\envs\\mne\\lib\\site-packages\\sklearn\\svm\\base.py:196: FutureWarning: The default value of gamma will change from 'auto' to 'scale' in version 0.22 to account better for unscaled features. Set gamma explicitly to 'auto' or 'scale' to avoid this warning.\n",
      "  \"avoid this warning.\", FutureWarning)\n",
      "c:\\users\\peter\\anaconda3\\envs\\mne\\lib\\site-packages\\sklearn\\svm\\base.py:196: FutureWarning: The default value of gamma will change from 'auto' to 'scale' in version 0.22 to account better for unscaled features. Set gamma explicitly to 'auto' or 'scale' to avoid this warning.\n",
      "  \"avoid this warning.\", FutureWarning)\n",
      "c:\\users\\peter\\anaconda3\\envs\\mne\\lib\\site-packages\\sklearn\\svm\\base.py:196: FutureWarning: The default value of gamma will change from 'auto' to 'scale' in version 0.22 to account better for unscaled features. Set gamma explicitly to 'auto' or 'scale' to avoid this warning.\n",
      "  \"avoid this warning.\", FutureWarning)\n",
      "c:\\users\\peter\\anaconda3\\envs\\mne\\lib\\site-packages\\sklearn\\svm\\base.py:196: FutureWarning: The default value of gamma will change from 'auto' to 'scale' in version 0.22 to account better for unscaled features. Set gamma explicitly to 'auto' or 'scale' to avoid this warning.\n",
      "  \"avoid this warning.\", FutureWarning)\n",
      "c:\\users\\peter\\anaconda3\\envs\\mne\\lib\\site-packages\\sklearn\\svm\\base.py:196: FutureWarning: The default value of gamma will change from 'auto' to 'scale' in version 0.22 to account better for unscaled features. Set gamma explicitly to 'auto' or 'scale' to avoid this warning.\n",
      "  \"avoid this warning.\", FutureWarning)\n"
     ]
    }
   ],
   "source": [
    "for pair in epoched_dataframes:\n",
    "    X_train, y_train = pair[0], pair[1]\n",
    "    clfSVC.fit(X_train, y_train)"
   ]
  },
  {
   "cell_type": "code",
   "execution_count": 9,
   "metadata": {
    "scrolled": true
   },
   "outputs": [
    {
     "name": "stdout",
     "output_type": "stream",
     "text": [
      "Fitting the classifier to the training set\n"
     ]
    },
    {
     "name": "stderr",
     "output_type": "stream",
     "text": [
      "c:\\users\\peter\\anaconda3\\envs\\mne\\lib\\site-packages\\sklearn\\model_selection\\_split.py:1943: FutureWarning: You should specify a value for 'cv' instead of relying on the default value. The default value will change from 3 to 5 in version 0.22.\n",
      "  warnings.warn(CV_WARNING, FutureWarning)\n",
      "c:\\users\\peter\\anaconda3\\envs\\mne\\lib\\site-packages\\sklearn\\svm\\base.py:196: FutureWarning: The default value of gamma will change from 'auto' to 'scale' in version 0.22 to account better for unscaled features. Set gamma explicitly to 'auto' or 'scale' to avoid this warning.\n",
      "  \"avoid this warning.\", FutureWarning)\n",
      "c:\\users\\peter\\anaconda3\\envs\\mne\\lib\\site-packages\\sklearn\\svm\\base.py:196: FutureWarning: The default value of gamma will change from 'auto' to 'scale' in version 0.22 to account better for unscaled features. Set gamma explicitly to 'auto' or 'scale' to avoid this warning.\n",
      "  \"avoid this warning.\", FutureWarning)\n",
      "c:\\users\\peter\\anaconda3\\envs\\mne\\lib\\site-packages\\sklearn\\svm\\base.py:196: FutureWarning: The default value of gamma will change from 'auto' to 'scale' in version 0.22 to account better for unscaled features. Set gamma explicitly to 'auto' or 'scale' to avoid this warning.\n",
      "  \"avoid this warning.\", FutureWarning)\n",
      "c:\\users\\peter\\anaconda3\\envs\\mne\\lib\\site-packages\\sklearn\\svm\\base.py:196: FutureWarning: The default value of gamma will change from 'auto' to 'scale' in version 0.22 to account better for unscaled features. Set gamma explicitly to 'auto' or 'scale' to avoid this warning.\n",
      "  \"avoid this warning.\", FutureWarning)\n",
      "c:\\users\\peter\\anaconda3\\envs\\mne\\lib\\site-packages\\sklearn\\svm\\base.py:196: FutureWarning: The default value of gamma will change from 'auto' to 'scale' in version 0.22 to account better for unscaled features. Set gamma explicitly to 'auto' or 'scale' to avoid this warning.\n",
      "  \"avoid this warning.\", FutureWarning)\n",
      "c:\\users\\peter\\anaconda3\\envs\\mne\\lib\\site-packages\\sklearn\\svm\\base.py:196: FutureWarning: The default value of gamma will change from 'auto' to 'scale' in version 0.22 to account better for unscaled features. Set gamma explicitly to 'auto' or 'scale' to avoid this warning.\n",
      "  \"avoid this warning.\", FutureWarning)\n",
      "c:\\users\\peter\\anaconda3\\envs\\mne\\lib\\site-packages\\sklearn\\svm\\base.py:196: FutureWarning: The default value of gamma will change from 'auto' to 'scale' in version 0.22 to account better for unscaled features. Set gamma explicitly to 'auto' or 'scale' to avoid this warning.\n",
      "  \"avoid this warning.\", FutureWarning)\n",
      "c:\\users\\peter\\anaconda3\\envs\\mne\\lib\\site-packages\\sklearn\\svm\\base.py:196: FutureWarning: The default value of gamma will change from 'auto' to 'scale' in version 0.22 to account better for unscaled features. Set gamma explicitly to 'auto' or 'scale' to avoid this warning.\n",
      "  \"avoid this warning.\", FutureWarning)\n",
      "c:\\users\\peter\\anaconda3\\envs\\mne\\lib\\site-packages\\sklearn\\svm\\base.py:196: FutureWarning: The default value of gamma will change from 'auto' to 'scale' in version 0.22 to account better for unscaled features. Set gamma explicitly to 'auto' or 'scale' to avoid this warning.\n",
      "  \"avoid this warning.\", FutureWarning)\n",
      "c:\\users\\peter\\anaconda3\\envs\\mne\\lib\\site-packages\\sklearn\\svm\\base.py:196: FutureWarning: The default value of gamma will change from 'auto' to 'scale' in version 0.22 to account better for unscaled features. Set gamma explicitly to 'auto' or 'scale' to avoid this warning.\n",
      "  \"avoid this warning.\", FutureWarning)\n",
      "c:\\users\\peter\\anaconda3\\envs\\mne\\lib\\site-packages\\sklearn\\svm\\base.py:196: FutureWarning: The default value of gamma will change from 'auto' to 'scale' in version 0.22 to account better for unscaled features. Set gamma explicitly to 'auto' or 'scale' to avoid this warning.\n",
      "  \"avoid this warning.\", FutureWarning)\n",
      "c:\\users\\peter\\anaconda3\\envs\\mne\\lib\\site-packages\\sklearn\\svm\\base.py:196: FutureWarning: The default value of gamma will change from 'auto' to 'scale' in version 0.22 to account better for unscaled features. Set gamma explicitly to 'auto' or 'scale' to avoid this warning.\n",
      "  \"avoid this warning.\", FutureWarning)\n",
      "c:\\users\\peter\\anaconda3\\envs\\mne\\lib\\site-packages\\sklearn\\svm\\base.py:196: FutureWarning: The default value of gamma will change from 'auto' to 'scale' in version 0.22 to account better for unscaled features. Set gamma explicitly to 'auto' or 'scale' to avoid this warning.\n",
      "  \"avoid this warning.\", FutureWarning)\n",
      "c:\\users\\peter\\anaconda3\\envs\\mne\\lib\\site-packages\\sklearn\\svm\\base.py:196: FutureWarning: The default value of gamma will change from 'auto' to 'scale' in version 0.22 to account better for unscaled features. Set gamma explicitly to 'auto' or 'scale' to avoid this warning.\n",
      "  \"avoid this warning.\", FutureWarning)\n",
      "c:\\users\\peter\\anaconda3\\envs\\mne\\lib\\site-packages\\sklearn\\svm\\base.py:196: FutureWarning: The default value of gamma will change from 'auto' to 'scale' in version 0.22 to account better for unscaled features. Set gamma explicitly to 'auto' or 'scale' to avoid this warning.\n",
      "  \"avoid this warning.\", FutureWarning)\n",
      "c:\\users\\peter\\anaconda3\\envs\\mne\\lib\\site-packages\\sklearn\\svm\\base.py:196: FutureWarning: The default value of gamma will change from 'auto' to 'scale' in version 0.22 to account better for unscaled features. Set gamma explicitly to 'auto' or 'scale' to avoid this warning.\n",
      "  \"avoid this warning.\", FutureWarning)\n"
     ]
    },
    {
     "name": "stdout",
     "output_type": "stream",
     "text": [
      "Best estimator found by grid search:\n",
      "SVC(C=100, cache_size=200, class_weight='balanced', coef0=0.0,\n",
      "  decision_function_shape='ovr', degree=3, gamma='auto_deprecated',\n",
      "  kernel='rbf', max_iter=-1, probability=False, random_state=None,\n",
      "  shrinking=True, tol=0.001, verbose=False)\n"
     ]
    }
   ],
   "source": [
    "from sklearn.model_selection import GridSearchCV\n",
    "print(\"Fitting the classifier to the training set\")\n",
    "param_grid = {'C': [0.01, 0.1, 1, 10, 100], 'kernel': ['rbf', 'linear']}\n",
    "clf = GridSearchCV(SVC(class_weight='balanced'), param_grid)\n",
    "clf = clf.fit(X_train, y_train)\n",
    "print(\"Best estimator found by grid search:\")\n",
    "print(clf.best_estimator_)"
   ]
  },
  {
   "cell_type": "markdown",
   "metadata": {},
   "source": [
    "<h3><left>III. Model Testing & Evaluation</left></h3>"
   ]
  },
  {
   "cell_type": "markdown",
   "metadata": {},
   "source": [
    "- **Precision** _(how many selected items are relevant?)_:\n",
    "\n",
    "$$\\frac{\\text{True Positives}}{\\text{Trust Positives + False Positives}}$$"
   ]
  },
  {
   "cell_type": "markdown",
   "metadata": {},
   "source": [
    "- **Recall** _(how many relevant items are selected?)_:\n",
    "\n",
    "$$\\frac{\\text{True Positives}}{\\text{Trust Positives + False Negatives}}$$"
   ]
  },
  {
   "cell_type": "markdown",
   "metadata": {},
   "source": [
    "- **F1 Score** _(weighted average of Precision and Recall)_:\n",
    "\n",
    "$$\\frac{2 \\cdot (\\text{Recall} \\cdot \\text{Precision})}{\\text{Recall} + \\text{Precision}}$$"
   ]
  },
  {
   "cell_type": "code",
   "execution_count": 10,
   "metadata": {
    "scrolled": true
   },
   "outputs": [],
   "source": [
    "test_subjects = dict()\n",
    "for sub_test in test_sub_folders:\n",
    "    sub_id, path_ = sub_test[0], sub_test[1]\n",
    "    files = os.listdir(Path(path_))\n",
    "    sub_files = dict()\n",
    "    for file in files:\n",
    "        full_path = os.path.join(Path(path_), file)\n",
    "        if 'epoch' in file:\n",
    "            sub_files['epoch'] = full_path\n",
    "        if 'reject' in file:\n",
    "            sub_files['reject'] = full_path\n",
    "        elif 'stages' in file:\n",
    "            sub_files['stage'] = full_path\n",
    "    test_subjects[sub_id] = sub_files"
   ]
  },
  {
   "cell_type": "code",
   "execution_count": 11,
   "metadata": {
    "scrolled": true
   },
   "outputs": [
    {
     "name": "stderr",
     "output_type": "stream",
     "text": [
      "C:\\Users\\peter\\git\\EEG-artifact-rejection\\artifact-rejection\\utils.py:50: RuntimeWarning: At least one epoch has multiple events. Only the latency of the first event will be retained.\n",
      "  set_file = mne.io.read_epochs_eeglab(file_path)\n"
     ]
    },
    {
     "name": "stdout",
     "output_type": "stream",
     "text": [
      "At least one epoch has multiple events. Only the latency of the first event will be retained.\n",
      "Extracting parameters from C:\\Users\\peter\\git\\EEG-artifact-rejection\\artifact-rejection\\eeg-data\\Stephanie\\Rew_601_rest\\Rew_601_rest_bb_epoch.set...\n",
      "6476 matching events found\n",
      "No baseline correction applied\n",
      "Not setting metadata\n",
      "0 projection items activated\n",
      "Ready.\n",
      "Converting time column to int64...\n",
      "'C:\\\\Users\\\\peter\\\\git\\\\EEG-artifact-rejection\\\\artifact-rejection\\\\eeg-data\\\\Stephanie\\\\Rew_601_rest\\\\Rew_601_rest_bb_epoch.set'\n"
     ]
    },
    {
     "name": "stderr",
     "output_type": "stream",
     "text": [
      "C:\\Users\\peter\\git\\EEG-artifact-rejection\\artifact-rejection\\utils.py:50: RuntimeWarning: At least one epoch has multiple events. Only the latency of the first event will be retained.\n",
      "  set_file = mne.io.read_epochs_eeglab(file_path)\n"
     ]
    },
    {
     "name": "stdout",
     "output_type": "stream",
     "text": [
      "At least one epoch has multiple events. Only the latency of the first event will be retained.\n",
      "Extracting parameters from C:\\Users\\peter\\git\\EEG-artifact-rejection\\artifact-rejection\\eeg-data\\Stephanie\\Rew_623_rest\\Rew_623_rest_bb_epoch.set...\n",
      "7212 matching events found\n",
      "No baseline correction applied\n",
      "Not setting metadata\n",
      "0 projection items activated\n",
      "Ready.\n",
      "Converting time column to int64...\n",
      "'C:\\\\Users\\\\peter\\\\git\\\\EEG-artifact-rejection\\\\artifact-rejection\\\\eeg-data\\\\Stephanie\\\\Rew_623_rest\\\\Rew_623_rest_bb_epoch.set'\n"
     ]
    },
    {
     "name": "stderr",
     "output_type": "stream",
     "text": [
      "C:\\Users\\peter\\git\\EEG-artifact-rejection\\artifact-rejection\\utils.py:50: RuntimeWarning: At least one epoch has multiple events. Only the latency of the first event will be retained.\n",
      "  set_file = mne.io.read_epochs_eeglab(file_path)\n"
     ]
    },
    {
     "name": "stdout",
     "output_type": "stream",
     "text": [
      "At least one epoch has multiple events. Only the latency of the first event will be retained.\n",
      "Extracting parameters from C:\\Users\\peter\\git\\EEG-artifact-rejection\\artifact-rejection\\eeg-data\\Stephanie\\Rew_603_rest\\Rew_603_rest_bb_epoch.set...\n",
      "6632 matching events found\n",
      "No baseline correction applied\n",
      "Not setting metadata\n",
      "0 projection items activated\n",
      "Ready.\n",
      "Converting time column to int64...\n",
      "'C:\\\\Users\\\\peter\\\\git\\\\EEG-artifact-rejection\\\\artifact-rejection\\\\eeg-data\\\\Stephanie\\\\Rew_603_rest\\\\Rew_603_rest_bb_epoch.set'\n"
     ]
    },
    {
     "name": "stderr",
     "output_type": "stream",
     "text": [
      "C:\\Users\\peter\\git\\EEG-artifact-rejection\\artifact-rejection\\utils.py:50: RuntimeWarning: At least one epoch has multiple events. Only the latency of the first event will be retained.\n",
      "  set_file = mne.io.read_epochs_eeglab(file_path)\n"
     ]
    },
    {
     "name": "stdout",
     "output_type": "stream",
     "text": [
      "At least one epoch has multiple events. Only the latency of the first event will be retained.\n",
      "Extracting parameters from C:\\Users\\peter\\git\\EEG-artifact-rejection\\artifact-rejection\\eeg-data\\Stephanie\\Rew_619_rest\\Rew_619_rest_bb_epoch.set...\n",
      "6300 matching events found\n",
      "No baseline correction applied\n",
      "Not setting metadata\n",
      "0 projection items activated\n",
      "Ready.\n",
      "Converting time column to int64...\n",
      "'C:\\\\Users\\\\peter\\\\git\\\\EEG-artifact-rejection\\\\artifact-rejection\\\\eeg-data\\\\Stephanie\\\\Rew_619_rest\\\\Rew_619_rest_bb_epoch.set'\n"
     ]
    },
    {
     "name": "stderr",
     "output_type": "stream",
     "text": [
      "C:\\Users\\peter\\git\\EEG-artifact-rejection\\artifact-rejection\\utils.py:50: RuntimeWarning: At least one epoch has multiple events. Only the latency of the first event will be retained.\n",
      "  set_file = mne.io.read_epochs_eeglab(file_path)\n"
     ]
    },
    {
     "name": "stdout",
     "output_type": "stream",
     "text": [
      "At least one epoch has multiple events. Only the latency of the first event will be retained.\n",
      "Extracting parameters from C:\\Users\\peter\\git\\EEG-artifact-rejection\\artifact-rejection\\eeg-data\\Stephanie\\Rew_620_rest\\Rew_620_rest_bb_epoch.set...\n",
      "7128 matching events found\n",
      "No baseline correction applied\n",
      "Not setting metadata\n",
      "0 projection items activated\n",
      "Ready.\n",
      "Converting time column to int64...\n",
      "'C:\\\\Users\\\\peter\\\\git\\\\EEG-artifact-rejection\\\\artifact-rejection\\\\eeg-data\\\\Stephanie\\\\Rew_620_rest\\\\Rew_620_rest_bb_epoch.set'\n"
     ]
    },
    {
     "name": "stderr",
     "output_type": "stream",
     "text": [
      "C:\\Users\\peter\\git\\EEG-artifact-rejection\\artifact-rejection\\utils.py:50: RuntimeWarning: At least one epoch has multiple events. Only the latency of the first event will be retained.\n",
      "  set_file = mne.io.read_epochs_eeglab(file_path)\n"
     ]
    },
    {
     "name": "stdout",
     "output_type": "stream",
     "text": [
      "At least one epoch has multiple events. Only the latency of the first event will be retained.\n",
      "Extracting parameters from C:\\Users\\peter\\git\\EEG-artifact-rejection\\artifact-rejection\\eeg-data\\Stephanie\\Rew_614_rest\\Rew_614_rest_bb_epoch.set...\n",
      "6364 matching events found\n",
      "No baseline correction applied\n",
      "Not setting metadata\n",
      "0 projection items activated\n",
      "Ready.\n",
      "Converting time column to int64...\n",
      "'C:\\\\Users\\\\peter\\\\git\\\\EEG-artifact-rejection\\\\artifact-rejection\\\\eeg-data\\\\Stephanie\\\\Rew_614_rest\\\\Rew_614_rest_bb_epoch.set'\n"
     ]
    },
    {
     "name": "stderr",
     "output_type": "stream",
     "text": [
      "C:\\Users\\peter\\git\\EEG-artifact-rejection\\artifact-rejection\\utils.py:50: RuntimeWarning: At least one epoch has multiple events. Only the latency of the first event will be retained.\n",
      "  set_file = mne.io.read_epochs_eeglab(file_path)\n"
     ]
    },
    {
     "name": "stdout",
     "output_type": "stream",
     "text": [
      "At least one epoch has multiple events. Only the latency of the first event will be retained.\n",
      "Extracting parameters from C:\\Users\\peter\\git\\EEG-artifact-rejection\\artifact-rejection\\eeg-data\\Stephanie\\Rew_612_rest\\Rew_612_rest_bb_epoch.set...\n",
      "6492 matching events found\n",
      "No baseline correction applied\n",
      "Not setting metadata\n",
      "0 projection items activated\n",
      "Ready.\n",
      "Converting time column to int64...\n",
      "'C:\\\\Users\\\\peter\\\\git\\\\EEG-artifact-rejection\\\\artifact-rejection\\\\eeg-data\\\\Stephanie\\\\Rew_612_rest\\\\Rew_612_rest_bb_epoch.set'\n"
     ]
    }
   ],
   "source": [
    "epoched_dataframes_ = list()\n",
    "for sub_test_ in test_subjects.keys():\n",
    "    file_path = test_subjects[sub_test_]['epoch']\n",
    "    mat_reject = test_subjects[sub_test_]['reject']\n",
    "    mat_stage = test_subjects[sub_test_]['stage']\n",
    "\n",
    "    files = load_subject_dir(file_path, mat_reject, mat_stage)\n",
    "    epochs = files['epochs']\n",
    "    rejects = files['rejects']\n",
    "\n",
    "    index, scaling_time, scalings = ['epoch', 'time'], 1e3, dict(grad=1e13)\n",
    "    df = epochs.to_data_frame(\n",
    "        picks=None, scalings=scalings, scaling_time=scaling_time, index=index)\n",
    "    df_epochs = df.groupby('epoch').mean()\n",
    "\n",
    "    try:\n",
    "        stages = files['stages']\n",
    "        df_epochs['stage'] = stages\n",
    "    except Exception as ex:\n",
    "        print(ex)\n",
    "\n",
    "    try:\n",
    "        df_epochs = bad_channel_median(bad_channels_stephanie[file_path], df_epochs)\n",
    "    except Exception as ex:\n",
    "        print(ex)\n",
    "    \n",
    "    epoched_dataframes_.append([df_epochs, rejects])"
   ]
  },
  {
   "cell_type": "code",
   "execution_count": 12,
   "metadata": {
    "scrolled": true
   },
   "outputs": [],
   "source": [
    "clf_f1_score, clf_precision_score, clf_recall_score = list(), list(), list()\n",
    "for pair_test in epoched_dataframes_:\n",
    "    X_test, y_test = pair_test[0], pair_test[1]\n",
    "    y_pred = clfSVC.predict(X_test)\n",
    "    clf_precision_score += [precision_score(y_test, y_pred)]\n",
    "    clf_recall_score += [recall_score(y_test, y_pred)]"
   ]
  },
  {
   "cell_type": "code",
   "execution_count": 13,
   "metadata": {
    "scrolled": false
   },
   "outputs": [
    {
     "name": "stdout",
     "output_type": "stream",
     "text": [
      "Recall Scores:\n",
      "0.6683046683046683\n",
      "0.7916260954235638\n",
      "0.5939849624060151\n",
      "0.7823033707865169\n",
      "0.683991683991684\n",
      "0.8556149732620321\n",
      "0.8742071881606766\n",
      "\n",
      "Precision Scores:\n",
      "0.2824506749740395\n",
      "0.405688622754491\n",
      "0.23140011716461628\n",
      "0.2789183775663495\n",
      "0.31303520456707895\n",
      "0.4006677796327212\n",
      "0.4210794297352342\n"
     ]
    }
   ],
   "source": [
    "print('Recall Scores:')    \n",
    "for scr in clf_recall_score:\n",
    "    print(scr)\n",
    "    \n",
    "print('\\nPrecision Scores:')\n",
    "for scr in clf_precision_score:\n",
    "    print(scr)"
   ]
  }
 ],
 "metadata": {
  "hide_input": false,
  "kernelspec": {
   "display_name": "Python 3",
   "language": "python",
   "name": "python3"
  },
  "language_info": {
   "codemirror_mode": {
    "name": "ipython",
    "version": 3
   },
   "file_extension": ".py",
   "mimetype": "text/x-python",
   "name": "python",
   "nbconvert_exporter": "python",
   "pygments_lexer": "ipython3",
   "version": "3.7.1"
  },
  "latex_envs": {
   "LaTeX_envs_menu_present": true,
   "autoclose": false,
   "autocomplete": true,
   "bibliofile": "biblio.bib",
   "cite_by": "apalike",
   "current_citInitial": 1,
   "eqLabelWithNumbers": true,
   "eqNumInitial": 1,
   "hotkeys": {
    "equation": "Ctrl-E",
    "itemize": "Ctrl-I"
   },
   "labels_anchors": false,
   "latex_user_defs": false,
   "report_style_numbering": false,
   "user_envs_cfg": false
  }
 },
 "nbformat": 4,
 "nbformat_minor": 2
}
