{
 "cells": [
  {
   "cell_type": "code",
   "execution_count": 1,
   "metadata": {},
   "outputs": [],
   "source": [
    "%run -i utilities.py"
   ]
  },
  {
   "cell_type": "code",
   "execution_count": 2,
   "metadata": {},
   "outputs": [
    {
     "name": "stdout",
     "output_type": "stream",
     "text": [
      "At least one epoch has multiple events. Only the latency of the first event will be retained.\n",
      "Extracting parameters from eeg-data\\Stephanie\\Rew_601_rest\\Rew_601_rest_bb_epoch.set...\n"
     ]
    },
    {
     "name": "stderr",
     "output_type": "stream",
     "text": [
      "C:\\Users\\peter\\git\\EEG-artifact-rejection\\artifact-rejection\\utilities.py:34: RuntimeWarning: At least one epoch has multiple events. Only the latency of the first event will be retained.\n",
      "  set_file = mne.io.read_epochs_eeglab(file_path)\n"
     ]
    },
    {
     "name": "stdout",
     "output_type": "stream",
     "text": [
      "6476 matching events found\n",
      "No baseline correction applied\n",
      "Not setting metadata\n",
      "0 projection items activated\n",
      "Ready.\n",
      "Converting time column to int64...\n",
      "Cleaning data...\n",
      "Cleaned data successfully!\n",
      "\n",
      "Preparing data for classification...\n",
      "Data prepared successfully!\n",
      "\n"
     ]
    }
   ],
   "source": [
    "# Set file paths and load files\n",
    "file_path = Path(\n",
    "    'eeg-data/Stephanie/Rew_601_rest/Rew_601_rest_bb_epoch.set')\n",
    "mat_reject = Path(\n",
    "    'eeg-data/Stephanie/Rew_601_rest/Rew_601_rest_reject_rmm.mat')\n",
    "mat_stage = Path(\n",
    "    'eeg-data/Stephanie/Rew_601_rest/Rew_601_rest_stages.mat')\n",
    "\n",
    "files = load_subject_dir(file_path, mat_reject, mat_stage)\n",
    "\n",
    "epochs = files['epochs']\n",
    "try:\n",
    "    reject = files['reject']\n",
    "except:\n",
    "    pass\n",
    "\n",
    "index, scaling_time, scalings = ['epoch', 'time'], 1e3, dict(grad=1e13)\n",
    "df_read = epochs.to_data_frame(picks=None, scalings=scalings, scaling_time=scaling_time, index=index)\n",
    "df = clean_df(df_read)\n",
    "df_ = df.copy()\n",
    "\n",
    "# Select values from dataframe and reject file\n",
    "df_values = extract_df_values(df)\n",
    "X, y = df_values.values, reject\n",
    "\n",
    "df_IF = run_IForest(X, y, df)\n",
    "\n",
    "print('IForest selected epochs:', set(df_IF['epoch']))"
   ]
  }
 ],
 "metadata": {
  "hide_input": false,
  "kernelspec": {
   "display_name": "Python 3",
   "language": "python",
   "name": "python3"
  },
  "language_info": {
   "codemirror_mode": {
    "name": "ipython",
    "version": 3
   },
   "file_extension": ".py",
   "mimetype": "text/x-python",
   "name": "python",
   "nbconvert_exporter": "python",
   "pygments_lexer": "ipython3",
   "version": "3.6.6"
  }
 },
 "nbformat": 4,
 "nbformat_minor": 2
}
