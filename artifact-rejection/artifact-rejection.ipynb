{
 "cells": [
  {
   "cell_type": "code",
   "execution_count": null,
   "metadata": {},
   "outputs": [],
   "source": [
    "%run -i utilities.py"
   ]
  },
  {
   "cell_type": "code",
   "execution_count": null,
   "metadata": {},
   "outputs": [],
   "source": [
    "# Set file paths and load files\n",
    "file_path = Path(\n",
    "    'eeg-data/Stephanie/Rew_601_rest/Rew_601_rest_bb_epoch.set')\n",
    "mat_reject = Path(\n",
    "    'eeg-data/Stephanie/Rew_601_rest/Rew_601_rest_reject_rmm.mat')\n",
    "mat_stage = Path(\n",
    "    'eeg-data/Stephanie/Rew_601_rest/Rew_601_rest_stages.mat')"
   ]
  },
  {
   "cell_type": "code",
   "execution_count": null,
   "metadata": {},
   "outputs": [],
   "source": [
    "files = load_subject_dir(file_path, mat_reject, mat_stage)\n",
    "epochs = files['epochs']"
   ]
  },
  {
   "cell_type": "code",
   "execution_count": null,
   "metadata": {},
   "outputs": [],
   "source": [
    "try:\n",
    "    reject = files['reject']\n",
    "except:\n",
    "    pass\n",
    "\n",
    "try:\n",
    "    stages = list(files['stages'])\n",
    "except:\n",
    "    pass"
   ]
  },
  {
   "cell_type": "code",
   "execution_count": null,
   "metadata": {},
   "outputs": [],
   "source": [
    "index, scaling_time, scalings = ['epoch', 'time'], 1e3, dict(grad=1e13)\n",
    "df_read = epochs.to_data_frame(picks=None, scalings=scalings, scaling_time=scaling_time, index=index)\n",
    "df = clean_df(df_read)\n",
    "df_ = df.copy()"
   ]
  },
  {
   "cell_type": "code",
   "execution_count": null,
   "metadata": {},
   "outputs": [],
   "source": [
    "# Select values from dataframe\n",
    "df_values = extract_df_values(df)"
   ]
  },
  {
   "cell_type": "code",
   "execution_count": null,
   "metadata": {},
   "outputs": [],
   "source": [
    "# SVM Classifier:\n",
    "print(\"Running SVM Classifier..\")\n",
    "X_train, y_train = df_values, reject\n",
    "clfSVC = svm.SVC(kernel='linear', C = 1.0)\n",
    "clfSVC.fit(X_train, y_train)"
   ]
  },
  {
   "cell_type": "code",
   "execution_count": null,
   "metadata": {},
   "outputs": [],
   "source": [
    "y_pred = clfSVC.predict(X_train)"
   ]
  },
  {
   "cell_type": "code",
   "execution_count": null,
   "metadata": {},
   "outputs": [],
   "source": [
    "accuracy_score(y_train, y_pred)"
   ]
  },
  {
   "cell_type": "code",
   "execution_count": null,
   "metadata": {},
   "outputs": [],
   "source": [
    "# # IForest:\n",
    "# print(\"Running IForest algorithm...\")\n",
    "# X = df_values\n",
    "# clfIF = IsolationForest(n_estimators=80, max_samples='auto', contamination=0.001, bootstrap=False, n_jobs=3, random_state=42, verbose=1)\n",
    "# clfIF.fit(X)\n",
    "\n",
    "# pred_artifacts = clfIF.predict(X)\n",
    "# count_artifacts = np.unique(ar=pred_artifacts, return_counts=True)\n",
    "# index_artifacts = [i for i, x in enumerate(pred_artifacts) if x == -1]\n",
    "\n",
    "# df_IF = df_.loc[index_artifacts]\n",
    "# df_IF_epochs = set(df_IF['epoch'])\n",
    "# print(df_IF_epochs)\n",
    "\n",
    "# num_artifacts_pair = count_artifacts[1][0]\n",
    "# num_artifacts = num_artifacts_pair[1][1]\n",
    "\n",
    "# total_pts = count_artifacts[1][1]\n",
    "# total_artifacts = np.count_nonzero(reject)\n",
    "# print(\"IForest algorithm ran successfully!\\n\")\n",
    "# print(f\"{num_artifacts} artifacts detected out of {total_artifacts} artifacts total.\")"
   ]
  }
 ],
 "metadata": {
  "kernelspec": {
   "display_name": "Python 3",
   "language": "python",
   "name": "python3"
  },
  "language_info": {
   "codemirror_mode": {
    "name": "ipython",
    "version": 3
   },
   "file_extension": ".py",
   "mimetype": "text/x-python",
   "name": "python",
   "nbconvert_exporter": "python",
   "pygments_lexer": "ipython3",
   "version": "3.7.0"
  }
 },
 "nbformat": 4,
 "nbformat_minor": 2
}
