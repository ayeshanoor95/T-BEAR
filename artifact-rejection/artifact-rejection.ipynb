{
 "cells": [
  {
   "cell_type": "code",
   "execution_count": null,
   "metadata": {},
   "outputs": [],
   "source": [
    "%run -i utilities.py\n",
    "style.use(\"ggplot\")\n",
    "warnings.filterwarnings('ignore')"
   ]
  },
  {
   "cell_type": "code",
   "execution_count": null,
   "metadata": {},
   "outputs": [],
   "source": [
    "# Set file paths\n",
    "file_path = Path('eeg-data/Stephanie/Rew_601_rest/Rew_601_rest_bb_epoch.set')\n",
    "mat_reject = Path('eeg-data/Stephanie/Rew_601_rest/Rew_601_rest_reject_rmm.mat')\n",
    "mat_stage = Path('eeg-data/Stephanie/Rew_601_rest/Rew_601_rest_stages.mat')"
   ]
  },
  {
   "cell_type": "code",
   "execution_count": null,
   "metadata": {
    "scrolled": true
   },
   "outputs": [],
   "source": [
    "files = load_subject_dir(file_path, mat_reject, mat_stage)"
   ]
  },
  {
   "cell_type": "code",
   "execution_count": null,
   "metadata": {},
   "outputs": [],
   "source": [
    "epochs = files['epochs']\n",
    "try:\n",
    "    reject = list(files['reject'])\n",
    "except:\n",
    "    pass\n",
    "\n",
    "try:\n",
    "    stages = list(files['stages'])\n",
    "except:\n",
    "    pass\n",
    "\n",
    "print(\"Cleaning data...\")\n",
    "df = epochs.to_data_frame()"
   ]
  },
  {
   "cell_type": "code",
   "execution_count": null,
   "metadata": {
    "scrolled": true
   },
   "outputs": [],
   "source": [
    "columns, df = sorted(list(df.columns)), df.reset_index()\n",
    "\n",
    "try:\n",
    "    df = df.drop(['condition'], axis=1)\n",
    "except:\n",
    "    pass\n",
    "\n",
    "cleaned_columns = ['time']\n",
    "if 'epoch' in list(df.columns):\n",
    "    cleaned_columns += ['epoch']\n",
    "\n",
    "cleaned_columns += columns\n",
    "df = df[cleaned_columns]\n",
    "\n",
    "try: \n",
    "    df[['time', 'epoch']] = df[['time', 'epoch']].astype(int)\n",
    "except:\n",
    "    pass\n",
    "\n",
    "df_ = df.copy()\n",
    "print(\"Cleaned data successfully!\\n\")"
   ]
  },
  {
   "cell_type": "code",
   "execution_count": null,
   "metadata": {},
   "outputs": [],
   "source": [
    "# Select values from columns for IForest:\n",
    "print(\"Preparing data for classification...\")\n",
    "value_columns = list(df.columns)\n",
    "\n",
    "try:\n",
    "    if 'time' in value_columns:\n",
    "        value_columns.remove('time')\n",
    "    if 'epoch' in value_columns:\n",
    "        value_columns.remove('epoch')\n",
    "except:\n",
    "    pass\n",
    "\n",
    "df_values = df_[value_columns]\n",
    "print(\"Data prepared successfully!\\n\")"
   ]
  },
  {
   "cell_type": "code",
   "execution_count": null,
   "metadata": {},
   "outputs": [],
   "source": [
    "# # SVM Classifier:\n",
    "# print(\"Running SVM Classifier..\")\n",
    "# X_train, y_train = df_values, reject\n",
    "# clfSVC = svm.SVC(kernel='linear', C = 1.0)\n",
    "# clfSVC.fit(X_train, y_train)"
   ]
  },
  {
   "cell_type": "code",
   "execution_count": null,
   "metadata": {},
   "outputs": [],
   "source": [
    "# IForest:\n",
    "print(\"Running IForest algorithm...\")\n",
    "X = df_values\n",
    "clfIF = IsolationForest(random_state=42, n_jobs=2)\n",
    "clfIF.fit(X)\n",
    "\n",
    "pred_artifacts = clfIF.predict(X)\n",
    "count_artifacts = np.unique(ar=pred_artifacts, return_counts=True)\n",
    "index_artifacts = [i for i, x in enumerate(pred_artifacts) if x == -1]\n",
    "\n",
    "df_IF = df_.loc[index_artifacts]\n",
    "df_IF_epochs = set(df_IF['epoch'])\n",
    "print(df_IF_epochs)\n",
    "\n",
    "num_artifacts_pair = count_artifacts[1][0]\n",
    "num_artifacts = num_artifacts_pair[1]\n",
    "\n",
    "total_pts = count_artifacts[1][1]\n",
    "total_artifacts = np.count_nonzero(reject)\n",
    "print(\"IForest algorithm ran successfully!\\n\")\n",
    "print(f\"{num_artifacts} artifacts detected out of {total_artifacts} artifacts total.\")"
   ]
  }
 ],
 "metadata": {
  "kernelspec": {
   "display_name": "Python 3",
   "language": "python",
   "name": "python3"
  },
  "language_info": {
   "codemirror_mode": {
    "name": "ipython",
    "version": 3
   },
   "file_extension": ".py",
   "mimetype": "text/x-python",
   "name": "python",
   "nbconvert_exporter": "python",
   "pygments_lexer": "ipython3",
   "version": "3.7.0"
  }
 },
 "nbformat": 4,
 "nbformat_minor": 2
}
