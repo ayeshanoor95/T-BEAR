{
 "cells": [
  {
   "cell_type": "code",
   "execution_count": 12,
   "metadata": {},
   "outputs": [],
   "source": [
    "from pathlib2 import Path, PureWindowsPath\n",
    "\n",
    "import matplotlib.pyplot as plt\n",
    "import mne\n",
    "import numpy as np\n",
    "import pandas as pd\n",
    "import scipy.io as sio\n",
    "from mne import io"
   ]
  },
  {
   "cell_type": "code",
   "execution_count": 13,
   "metadata": {},
   "outputs": [],
   "source": [
    "data_folder = Path(\"/Users/peter/Google Drive/artifact-rejection-walker-lab/eeg-data/601/\")\n",
    "file_name = data_folder / \"Rew_601_rest_bb_epoch.set\"\n",
    "# path_on_windows = PureWindowsPath(file_name)\n",
    "# epochs = mne.io.read_epochs_eeglab(path_on_windows)\n",
    "# data = epochs.to_data_frame()\n",
    "# reject_arr = sio.loadmat('Rew_601_rest_reject_rmm.mat')\n",
    "# reject_key = reject_arr['reject'][0].tolist()"
   ]
  },
  {
   "cell_type": "code",
   "execution_count": 14,
   "metadata": {},
   "outputs": [
    {
     "data": {
      "text/plain": [
       "WindowsPath('/Users/peter/Google Drive/artifact-rejection-walker-lab/eeg-data/601')"
      ]
     },
     "execution_count": 14,
     "metadata": {},
     "output_type": "execute_result"
    }
   ],
   "source": [
    "data_folder\n"
   ]
  },
  {
   "cell_type": "code",
   "execution_count": null,
   "metadata": {},
   "outputs": [],
   "source": [
    "df = data.copy(); df = df.reset_index(); df = df.drop(['condition'], axis=1)\n",
    "df_ = df.copy()"
   ]
  },
  {
   "cell_type": "code",
   "execution_count": null,
   "metadata": {
    "scrolled": true
   },
   "outputs": [],
   "source": [
    "df_ = df_.drop(['epoch', 'time'], axis=1)\n",
    "df_.head()"
   ]
  }
 ],
 "metadata": {
  "kernelspec": {
   "display_name": "Python 3",
   "language": "python",
   "name": "python3"
  },
  "language_info": {
   "codemirror_mode": {
    "name": "ipython",
    "version": 3
   },
   "file_extension": ".py",
   "mimetype": "text/x-python",
   "name": "python",
   "nbconvert_exporter": "python",
   "pygments_lexer": "ipython3",
   "version": "3.5.5"
  }
 },
 "nbformat": 4,
 "nbformat_minor": 2
}
