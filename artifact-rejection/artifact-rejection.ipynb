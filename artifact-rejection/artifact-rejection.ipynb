{
 "cells": [
  {
   "cell_type": "code",
   "execution_count": 1,
   "metadata": {},
   "outputs": [],
   "source": [
    "%run -i utilities.py"
   ]
  },
  {
   "cell_type": "code",
   "execution_count": 2,
   "metadata": {},
   "outputs": [
    {
     "name": "stdout",
     "output_type": "stream",
     "text": [
      "At least one epoch has multiple events. Only the latency of the first event will be retained.\n",
      "Extracting parameters from eeg-data\\Stephanie\\Rew_601_rest\\Rew_601_rest_bb_epoch.set...\n"
     ]
    },
    {
     "name": "stderr",
     "output_type": "stream",
     "text": [
      "C:\\Users\\peter\\git\\EEG-artifact-rejection\\artifact-rejection\\utilities.py:30: RuntimeWarning: At least one epoch has multiple events. Only the latency of the first event will be retained.\n",
      "  set_file = mne.io.read_epochs_eeglab(file_path)\n"
     ]
    },
    {
     "name": "stdout",
     "output_type": "stream",
     "text": [
      "6476 matching events found\n",
      "No baseline correction applied\n",
      "Not setting metadata\n",
      "0 projection items activated\n",
      "Ready.\n"
     ]
    }
   ],
   "source": [
    "# Set file paths and load files\n",
    "file_path = Path(\n",
    "    'eeg-data/Stephanie/Rew_601_rest/Rew_601_rest_bb_epoch.set')\n",
    "mat_reject = Path(\n",
    "    'eeg-data/Stephanie/Rew_601_rest/Rew_601_rest_reject_rmm.mat')\n",
    "mat_stage = Path(\n",
    "    'eeg-data/Stephanie/Rew_601_rest/Rew_601_rest_stages.mat')\n",
    "\n",
    "files = load_subject_dir(file_path, mat_reject, mat_stage)"
   ]
  },
  {
   "cell_type": "code",
   "execution_count": 3,
   "metadata": {},
   "outputs": [],
   "source": [
    "epochs = files['epochs']\n",
    "try:\n",
    "    reject = files['reject']\n",
    "except:\n",
    "    pass"
   ]
  },
  {
   "cell_type": "code",
   "execution_count": 4,
   "metadata": {},
   "outputs": [
    {
     "name": "stdout",
     "output_type": "stream",
     "text": [
      "Converting time column to int64...\n",
      "Cleaning data...\n",
      "Cleaned data successfully!\n",
      "\n"
     ]
    }
   ],
   "source": [
    "# Read epochs into dataframe and clean df\n",
    "index, scaling_time, scalings = ['epoch', 'time'], 1e3, dict(grad=1e13)\n",
    "df_read = epochs.to_data_frame(\n",
    "    picks=None, scalings=scalings, scaling_time=scaling_time, index=index)\n",
    "df = clean_df(df_read)\n",
    "df_ = df.copy()"
   ]
  },
  {
   "cell_type": "code",
   "execution_count": null,
   "metadata": {
    "deletable": false,
    "editable": false,
    "run_control": {
     "frozen": true
    }
   },
   "outputs": [],
   "source": [
    "# Select values from dataframe and reject file\n",
    "df_values = extract_df_values(df)\n",
    "X, y = df_values.values, reject\n",
    "df_IF = run_IForest(X, y, df)"
   ]
  },
  {
   "cell_type": "code",
   "execution_count": null,
   "metadata": {
    "deletable": false,
    "editable": false,
    "run_control": {
     "frozen": true
    }
   },
   "outputs": [],
   "source": [
    "# Create .csv with rejected <#> epochs\n",
    "drop_epochs = sorted(list(set(df_IF['epoch'])))\n",
    "drop_epochs_ = np.asarray(drop_epochs)\n",
    "drop_epochs_.tofile('pred_y.csv', sep=',', format='%1.0f')"
   ]
  },
  {
   "cell_type": "code",
   "execution_count": 5,
   "metadata": {
    "scrolled": true
   },
   "outputs": [],
   "source": [
    "pred_y_file = np.genfromtxt('pred_y.csv', delimiter=',')"
   ]
  },
  {
   "cell_type": "code",
   "execution_count": 6,
   "metadata": {
    "scrolled": true
   },
   "outputs": [],
   "source": [
    "reject_epochs = [index for index, value in enumerate(reject) if value==1]"
   ]
  },
  {
   "cell_type": "code",
   "execution_count": 7,
   "metadata": {
    "scrolled": false
   },
   "outputs": [
    {
     "data": {
      "text/plain": [
       "array([ 156,  164,  188,  221,  241,  256,  257,  261,  288,  298,  301,\n",
       "        302,  306,  318,  335,  339,  341,  355,  358,  362,  381,  405,\n",
       "        415,  423,  431,  441,  445,  456,  462,  498,  516,  527,  539,\n",
       "        551,  558,  564,  567,  574,  592,  619,  628,  641,  647,  648,\n",
       "        650,  654,  661,  662,  666,  681,  700,  704,  901,  964,  968,\n",
       "        983, 1000, 1002, 1009, 1033, 1038, 1040, 1059, 1073, 1074, 1080,\n",
       "       1086, 1088, 1108, 1114, 1141, 1167, 1202, 1206, 1207, 1213, 1218,\n",
       "       1230, 1245, 1250, 1257, 1259, 1264, 1290, 1340, 1395, 1403, 1410,\n",
       "       1419, 1429, 1432, 1455, 1466, 1467, 1474, 1483, 1511, 1520, 1550,\n",
       "       1559, 1579, 1588, 1597, 1614, 1618, 1621, 1625, 1631, 1634, 1639,\n",
       "       1646, 1905, 1910, 1921, 1934, 1947, 2063, 2110, 2131, 2150, 2158,\n",
       "       2197, 2200, 2205, 2240, 2281, 2392, 2426, 2459, 2476, 2503, 2512,\n",
       "       2542, 2545, 2548, 2551, 2566, 2570, 2581, 2666, 2676, 2692, 2702,\n",
       "       2719, 2726, 2754, 2776, 2778, 2790, 3114, 3159, 3202, 3203, 3205,\n",
       "       3259, 3383, 3405, 3433, 3434, 3484, 3500, 3518, 3532, 3549, 3579,\n",
       "       3585, 3592, 3638, 3639, 3675, 3685, 3702, 3727, 3732, 3739, 4164,\n",
       "       4176, 4210, 4220, 4260, 4318, 4423, 4439, 4503, 4519, 4520, 4559,\n",
       "       4572, 4608, 4644, 4697, 4707, 4750, 4757, 4759, 4957, 4977, 4990,\n",
       "       4993, 5002, 5065, 5104, 5179, 5182, 5189, 5196, 5199, 5251, 5266,\n",
       "       5275, 5294, 5297, 5313, 5315, 5928, 5939, 6000, 6216, 6222, 6249,\n",
       "       6263, 6312])"
      ]
     },
     "execution_count": 7,
     "metadata": {},
     "output_type": "execute_result"
    }
   ],
   "source": [
    "np.array([int(x) for x in pred_y_file if x not in reject_epochs])"
   ]
  },
  {
   "cell_type": "code",
   "execution_count": 8,
   "metadata": {
    "scrolled": false
   },
   "outputs": [
    {
     "data": {
      "text/plain": [
       "array([  95,  307,  308,  309,  366,  367,  393,  394,  395,  469,  470,\n",
       "        471,  473,  474,  555,  556,  560,  561,  759, 1095, 1096, 1097,\n",
       "       1098, 1099, 1100, 1106, 1107, 1297, 1298, 1351, 1363, 1364, 1608,\n",
       "       1609, 1610, 1869, 1870, 1991, 1992, 1993, 2180, 2181, 2182, 2258,\n",
       "       2259, 2283, 2285, 2311, 2821, 2822, 3070, 3071, 3072, 3269, 3270,\n",
       "       3285, 3286, 3287, 3430, 3558, 3559, 3560, 3561, 3819, 3820, 3916,\n",
       "       3917, 3918, 4056, 4057, 4122, 4123, 4124, 4440, 4645, 4848, 4849,\n",
       "       4920, 4921, 5150, 5347, 5366, 5367, 5368, 5407, 5408, 5409, 5434,\n",
       "       5435, 5511, 5512, 5513, 5515, 5516, 5671, 5672, 5766, 5767, 5886,\n",
       "       5887, 5888, 5950, 5951, 5952, 6057, 6058, 6315, 6316, 6347, 6348,\n",
       "       6409])"
      ]
     },
     "execution_count": 8,
     "metadata": {},
     "output_type": "execute_result"
    }
   ],
   "source": [
    "np.array([int(x) for x in pred_y_file if x in reject_epochs])"
   ]
  },
  {
   "cell_type": "code",
   "execution_count": 9,
   "metadata": {},
   "outputs": [
    {
     "data": {
      "text/plain": [
       "407"
      ]
     },
     "execution_count": 9,
     "metadata": {},
     "output_type": "execute_result"
    }
   ],
   "source": [
    "len(reject_epochs)"
   ]
  },
  {
   "cell_type": "code",
   "execution_count": 10,
   "metadata": {},
   "outputs": [
    {
     "data": {
      "text/plain": [
       "111"
      ]
     },
     "execution_count": 10,
     "metadata": {},
     "output_type": "execute_result"
    }
   ],
   "source": [
    "len(np.array([int(x) for x in pred_y_file if x in reject_epochs]))"
   ]
  },
  {
   "cell_type": "code",
   "execution_count": 16,
   "metadata": {},
   "outputs": [],
   "source": [
    "df_bool = (df_ == df)"
   ]
  },
  {
   "cell_type": "code",
   "execution_count": 19,
   "metadata": {},
   "outputs": [
    {
     "data": {
      "text/plain": [
       "12952000"
      ]
     },
     "execution_count": 19,
     "metadata": {},
     "output_type": "execute_result"
    }
   ],
   "source": [
    "np.count_nonzero(df_bool.iloc[:, 1])"
   ]
  },
  {
   "cell_type": "code",
   "execution_count": 20,
   "metadata": {},
   "outputs": [
    {
     "data": {
      "text/html": [
       "<div>\n",
       "<style scoped>\n",
       "    .dataframe tbody tr th:only-of-type {\n",
       "        vertical-align: middle;\n",
       "    }\n",
       "\n",
       "    .dataframe tbody tr th {\n",
       "        vertical-align: top;\n",
       "    }\n",
       "\n",
       "    .dataframe thead th {\n",
       "        text-align: right;\n",
       "    }\n",
       "</style>\n",
       "<table border=\"1\" class=\"dataframe\">\n",
       "  <thead>\n",
       "    <tr style=\"text-align: right;\">\n",
       "      <th>signal</th>\n",
       "      <th>time</th>\n",
       "      <th>epoch</th>\n",
       "      <th>C3</th>\n",
       "      <th>C4</th>\n",
       "      <th>CZ</th>\n",
       "      <th>F3</th>\n",
       "      <th>F4</th>\n",
       "      <th>F7</th>\n",
       "      <th>F8</th>\n",
       "      <th>FZ</th>\n",
       "      <th>...</th>\n",
       "      <th>Fp2</th>\n",
       "      <th>O1</th>\n",
       "      <th>O2</th>\n",
       "      <th>P3</th>\n",
       "      <th>P4</th>\n",
       "      <th>PZ</th>\n",
       "      <th>T3</th>\n",
       "      <th>T4</th>\n",
       "      <th>T5</th>\n",
       "      <th>T6</th>\n",
       "    </tr>\n",
       "  </thead>\n",
       "  <tbody>\n",
       "    <tr>\n",
       "      <th>0</th>\n",
       "      <td>0</td>\n",
       "      <td>0</td>\n",
       "      <td>-4.101171</td>\n",
       "      <td>-5.968149</td>\n",
       "      <td>-4.743762</td>\n",
       "      <td>-3.682605</td>\n",
       "      <td>-4.446309</td>\n",
       "      <td>-1.441384</td>\n",
       "      <td>-5.157160</td>\n",
       "      <td>-2.841753</td>\n",
       "      <td>...</td>\n",
       "      <td>-5.491191</td>\n",
       "      <td>-5.813361</td>\n",
       "      <td>-10.619266</td>\n",
       "      <td>-5.897866</td>\n",
       "      <td>-7.994251</td>\n",
       "      <td>-6.512607</td>\n",
       "      <td>-2.072411</td>\n",
       "      <td>-2.857092</td>\n",
       "      <td>-1.348035</td>\n",
       "      <td>-6.712998</td>\n",
       "    </tr>\n",
       "    <tr>\n",
       "      <th>1</th>\n",
       "      <td>2</td>\n",
       "      <td>0</td>\n",
       "      <td>-5.183039</td>\n",
       "      <td>-3.539983</td>\n",
       "      <td>-4.891985</td>\n",
       "      <td>-5.510036</td>\n",
       "      <td>-2.731580</td>\n",
       "      <td>-4.127728</td>\n",
       "      <td>-2.581909</td>\n",
       "      <td>-2.712256</td>\n",
       "      <td>...</td>\n",
       "      <td>-4.066828</td>\n",
       "      <td>-8.367174</td>\n",
       "      <td>-10.431769</td>\n",
       "      <td>-7.622222</td>\n",
       "      <td>-6.328388</td>\n",
       "      <td>-7.438750</td>\n",
       "      <td>-3.432891</td>\n",
       "      <td>-0.377738</td>\n",
       "      <td>-3.379942</td>\n",
       "      <td>-5.844828</td>\n",
       "    </tr>\n",
       "    <tr>\n",
       "      <th>2</th>\n",
       "      <td>5</td>\n",
       "      <td>0</td>\n",
       "      <td>-6.473076</td>\n",
       "      <td>-1.935451</td>\n",
       "      <td>-5.402406</td>\n",
       "      <td>-7.127059</td>\n",
       "      <td>-1.392381</td>\n",
       "      <td>-6.066678</td>\n",
       "      <td>-0.504993</td>\n",
       "      <td>-2.933984</td>\n",
       "      <td>...</td>\n",
       "      <td>-2.699850</td>\n",
       "      <td>-10.873877</td>\n",
       "      <td>-10.933600</td>\n",
       "      <td>-9.510497</td>\n",
       "      <td>-5.507238</td>\n",
       "      <td>-8.706780</td>\n",
       "      <td>-4.636084</td>\n",
       "      <td>1.354425</td>\n",
       "      <td>-5.225135</td>\n",
       "      <td>-5.669819</td>\n",
       "    </tr>\n",
       "    <tr>\n",
       "      <th>3</th>\n",
       "      <td>8</td>\n",
       "      <td>0</td>\n",
       "      <td>-8.008626</td>\n",
       "      <td>-1.666145</td>\n",
       "      <td>-6.403526</td>\n",
       "      <td>-8.324136</td>\n",
       "      <td>-0.666902</td>\n",
       "      <td>-6.764383</td>\n",
       "      <td>0.725579</td>\n",
       "      <td>-3.599645</td>\n",
       "      <td>...</td>\n",
       "      <td>-1.478360</td>\n",
       "      <td>-13.169887</td>\n",
       "      <td>-12.535002</td>\n",
       "      <td>-11.537941</td>\n",
       "      <td>-6.059763</td>\n",
       "      <td>-10.455081</td>\n",
       "      <td>-5.518118</td>\n",
       "      <td>1.881818</td>\n",
       "      <td>-6.697570</td>\n",
       "      <td>-6.624831</td>\n",
       "    </tr>\n",
       "    <tr>\n",
       "      <th>4</th>\n",
       "      <td>10</td>\n",
       "      <td>0</td>\n",
       "      <td>-9.597174</td>\n",
       "      <td>-2.770913</td>\n",
       "      <td>-7.707548</td>\n",
       "      <td>-8.924362</td>\n",
       "      <td>-0.604117</td>\n",
       "      <td>-6.133142</td>\n",
       "      <td>0.986625</td>\n",
       "      <td>-4.461777</td>\n",
       "      <td>...</td>\n",
       "      <td>-0.552566</td>\n",
       "      <td>-14.950358</td>\n",
       "      <td>-15.219418</td>\n",
       "      <td>-13.436047</td>\n",
       "      <td>-8.015812</td>\n",
       "      <td>-12.517210</td>\n",
       "      <td>-5.916834</td>\n",
       "      <td>1.181734</td>\n",
       "      <td>-7.626414</td>\n",
       "      <td>-8.737988</td>\n",
       "    </tr>\n",
       "  </tbody>\n",
       "</table>\n",
       "<p>5 rows × 21 columns</p>\n",
       "</div>"
      ],
      "text/plain": [
       "signal  time  epoch        C3        C4        CZ        F3        F4  \\\n",
       "0          0      0 -4.101171 -5.968149 -4.743762 -3.682605 -4.446309   \n",
       "1          2      0 -5.183039 -3.539983 -4.891985 -5.510036 -2.731580   \n",
       "2          5      0 -6.473076 -1.935451 -5.402406 -7.127059 -1.392381   \n",
       "3          8      0 -8.008626 -1.666145 -6.403526 -8.324136 -0.666902   \n",
       "4         10      0 -9.597174 -2.770913 -7.707548 -8.924362 -0.604117   \n",
       "\n",
       "signal        F7        F8        FZ    ...          Fp2         O1  \\\n",
       "0      -1.441384 -5.157160 -2.841753    ...    -5.491191  -5.813361   \n",
       "1      -4.127728 -2.581909 -2.712256    ...    -4.066828  -8.367174   \n",
       "2      -6.066678 -0.504993 -2.933984    ...    -2.699850 -10.873877   \n",
       "3      -6.764383  0.725579 -3.599645    ...    -1.478360 -13.169887   \n",
       "4      -6.133142  0.986625 -4.461777    ...    -0.552566 -14.950358   \n",
       "\n",
       "signal         O2         P3        P4         PZ        T3        T4  \\\n",
       "0      -10.619266  -5.897866 -7.994251  -6.512607 -2.072411 -2.857092   \n",
       "1      -10.431769  -7.622222 -6.328388  -7.438750 -3.432891 -0.377738   \n",
       "2      -10.933600  -9.510497 -5.507238  -8.706780 -4.636084  1.354425   \n",
       "3      -12.535002 -11.537941 -6.059763 -10.455081 -5.518118  1.881818   \n",
       "4      -15.219418 -13.436047 -8.015812 -12.517210 -5.916834  1.181734   \n",
       "\n",
       "signal        T5        T6  \n",
       "0      -1.348035 -6.712998  \n",
       "1      -3.379942 -5.844828  \n",
       "2      -5.225135 -5.669819  \n",
       "3      -6.697570 -6.624831  \n",
       "4      -7.626414 -8.737988  \n",
       "\n",
       "[5 rows x 21 columns]"
      ]
     },
     "execution_count": 20,
     "metadata": {},
     "output_type": "execute_result"
    }
   ],
   "source": [
    "df.head()"
   ]
  },
  {
   "cell_type": "code",
   "execution_count": 23,
   "metadata": {},
   "outputs": [],
   "source": [
    "new_index = [2,4,6]\n",
    "df.loc[[2, 4, 6],'epoch'] = 1010101"
   ]
  },
  {
   "cell_type": "code",
   "execution_count": 25,
   "metadata": {},
   "outputs": [
    {
     "data": {
      "text/plain": [
       "2    1010101\n",
       "4    1010101\n",
       "6    1010101\n",
       "Name: epoch, dtype: int32"
      ]
     },
     "execution_count": 25,
     "metadata": {},
     "output_type": "execute_result"
    }
   ],
   "source": [
    "df.loc[[2, 4, 6],'epoch']"
   ]
  },
  {
   "cell_type": "code",
   "execution_count": null,
   "metadata": {},
   "outputs": [],
   "source": []
  }
 ],
 "metadata": {
  "hide_input": false,
  "kernelspec": {
   "display_name": "Python 3",
   "language": "python",
   "name": "python3"
  },
  "language_info": {
   "codemirror_mode": {
    "name": "ipython",
    "version": 3
   },
   "file_extension": ".py",
   "mimetype": "text/x-python",
   "name": "python",
   "nbconvert_exporter": "python",
   "pygments_lexer": "ipython3",
   "version": "3.6.6"
  }
 },
 "nbformat": 4,
 "nbformat_minor": 2
}
