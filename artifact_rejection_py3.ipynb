{
 "cells": [
  {
   "cell_type": "code",
   "execution_count": 1,
   "metadata": {},
   "outputs": [
    {
     "name": "stderr",
     "output_type": "stream",
     "text": [
      "/home/walker/peterwhy/.conda/envs/py35_env/lib/python3.5/site-packages/sklearn/ensemble/weight_boosting.py:29: DeprecationWarning: numpy.core.umath_tests is an internal NumPy module and should not be imported. It will be removed in a future NumPy release.\n",
      "  from numpy.core.umath_tests import inner1d\n"
     ]
    }
   ],
   "source": [
    "from pathlib import Path, PureWindowsPath\n",
    "\n",
    "import matplotlib.pyplot as plt\n",
    "import mne\n",
    "import numpy as np\n",
    "import pandas as pd\n",
    "from mne import io\n",
    "from sklearn.ensemble import IsolationForest"
   ]
  },
  {
   "cell_type": "code",
   "execution_count": 2,
   "metadata": {},
   "outputs": [],
   "source": [
    "# Set 'file_path':\n",
    "file_path = str(Path(r'ANTT_104/ANTT_104_SR_bb_epoch.set'))"
   ]
  },
  {
   "cell_type": "code",
   "execution_count": 3,
   "metadata": {},
   "outputs": [
    {
     "name": "stderr",
     "output_type": "stream",
     "text": [
      "ERROR:root:Internal Python error in the inspect module.\n",
      "Below is the traceback from this internal error.\n",
      "\n",
      "\n",
      "KeyboardInterrupt\n",
      "\n"
     ]
    }
   ],
   "source": [
    "# Load 'file_path':\n",
    "try:\n",
    "    epochs = mne.io.read_epochs_eeglab(file_path)\n",
    "except:\n",
    "    epochs = mne.io.read_raw_eeglab(file_path)"
   ]
  },
  {
   "cell_type": "code",
   "execution_count": null,
   "metadata": {},
   "outputs": [],
   "source": [
    "# Convert to and clean DataFrame:\n",
    "df = epochs.to_data_frame()\n",
    "columns, df = sorted(list(df.columns)), df.reset_index()\n",
    "\n",
    "try: \n",
    "    df = df.drop(['condition'], axis=1)\n",
    "except:\n",
    "    pass\n",
    "\n",
    "cleaned_columns = ['time']\n",
    "if 'epoch' in list(df.columns):\n",
    "    cleaned_columns += ['epoch']\n",
    "cleaned_columns += columns\n",
    "\n",
    "df = df[cleaned_columns]\n",
    "df_ = df.copy()"
   ]
  },
  {
   "cell_type": "code",
   "execution_count": null,
   "metadata": {},
   "outputs": [],
   "source": [
    "df_.head()"
   ]
  },
  {
   "cell_type": "code",
   "execution_count": null,
   "metadata": {},
   "outputs": [],
   "source": [
    "# Select values from columns for IForest:\n",
    "value_columns = list(df.columns)\n",
    "\n",
    "try:\n",
    "    if 'time' in value_columns:\n",
    "        value_columns.remove('time')\n",
    "    if 'epoch' in value_columns:\n",
    "        value_columns.remove('epoch')\n",
    "except:\n",
    "    pass\n",
    "\n",
    "df_values = df_[value_columns]"
   ]
  },
  {
   "cell_type": "code",
   "execution_count": null,
   "metadata": {},
   "outputs": [],
   "source": [
    "df_values.head()"
   ]
  },
  {
   "cell_type": "code",
   "execution_count": null,
   "metadata": {},
   "outputs": [],
   "source": [
    "# Run IForest:\n",
    "X = df_values\n",
    "clfIF = IsolationForest(random_state=42, contamination=0.00001, n_jobs=2)\n",
    "clfIF.fit(X)\n",
    "pred_train, pred_test = clfIF.predict(X), clfIF.predict(X)\n",
    "count_train, count_test = np.unique(ar=pred_train, return_counts=True), np.unique(ar=pred_test, return_counts=True)\n",
    "index_train, index_test = [i for i,x in enumerate(pred_train) if x == -1] , [i for i,x in enumerate(pred_test) if x == -1]\n",
    "df_IF = df_.loc[index_test]\n",
    "num_anomalies = count_train[1][0], count_test[1][0]; total_pts = count_train[1][1], count_test[1][1]"
   ]
  },
  {
   "cell_type": "code",
   "execution_count": null,
   "metadata": {},
   "outputs": [],
   "source": [
    "print(\"Number of anomalies: \", num_anomalies)\n",
    "print(\"Total points:\", total_pts)"
   ]
  }
 ],
 "metadata": {
  "kernelspec": {
   "display_name": "Python 3",
   "language": "python",
   "name": "python3"
  },
  "language_info": {
   "codemirror_mode": {
    "name": "ipython",
    "version": 3
   },
   "file_extension": ".py",
   "mimetype": "text/x-python",
   "name": "python",
   "nbconvert_exporter": "python",
   "pygments_lexer": "ipython3",
   "version": "3.5.5"
  }
 },
 "nbformat": 4,
 "nbformat_minor": 2
}
