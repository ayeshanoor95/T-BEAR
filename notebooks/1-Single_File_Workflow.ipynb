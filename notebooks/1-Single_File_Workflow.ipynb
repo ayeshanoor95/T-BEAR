{
 "cells": [
  {
   "cell_type": "markdown",
   "metadata": {},
   "source": [
    "<h1><center>Example: Single Subject File Workflow<center></h1>"
   ]
  },
  {
   "cell_type": "markdown",
   "metadata": {},
   "source": [
    "### Imports\n",
    "The following adds the tbear into our `sys.path`, so T-BEAR functions are accessible. "
   ]
  },
  {
   "cell_type": "code",
   "execution_count": null,
   "metadata": {},
   "outputs": [],
   "source": [
    "import os\n",
    "import sys\n",
    "\n",
    "from sklearn.ensemble import RandomForestClassifier\n",
    "\n",
    "module_path = os.path.realpath(os.path.join(\"..\", \"tbear\"))\n",
    "if module_path not in sys.path:\n",
    "    sys.path.append(module_path)\n",
    "\n",
    "%matplotlib inline"
   ]
  },
  {
   "cell_type": "code",
   "execution_count": null,
   "metadata": {},
   "outputs": [],
   "source": [
    "from core import *\n",
    "\n",
    "RANDOM_STATE: int = 42\n",
    "set_config('MNE_LOGGING_LEVEL', 'ERROR')\n",
    "set_log_level('ERROR')"
   ]
  },
  {
   "cell_type": "markdown",
   "metadata": {},
   "source": [
    "### Data Input and Instantiation\n",
    "Let's read in the `.set` file and `.mat` files. Change the paths accordingly for your file path."
   ]
  },
  {
   "cell_type": "code",
   "execution_count": null,
   "metadata": {},
   "outputs": [],
   "source": [
    "subject_file = os.path.realpath(\n",
    "    os.path.join(\"..\", \"data\", \"new-data\", \"epoched_files_ECG_EMG_EOG\",\n",
    "                 \"ANTT_104_SR_raw_TIB_epoch.set\"))\n",
    "reject_file = os.path.realpath(\n",
    "    os.path.join(\"..\", \"data\", \"new-data\", \"new_AR_REM_redo_files\",\n",
    "                 \"ANTT_104_SR_reject_rmm_REMredo.mat\"))"
   ]
  },
  {
   "cell_type": "code",
   "execution_count": null,
   "metadata": {},
   "outputs": [],
   "source": [
    "subj_104 = Subject(subject_file, reject_file)\n",
    "print(subj_104)  # File name becomes the name of the Subject instance"
   ]
  },
  {
   "cell_type": "markdown",
   "metadata": {},
   "source": [
    "**Note:** We can use the class method `add_to_group()` to add this instance to a class variable. Visit `2-Directory_Workflow.ipynb` for an example."
   ]
  },
  {
   "cell_type": "code",
   "execution_count": null,
   "metadata": {},
   "outputs": [],
   "source": [
    "print(subj_104.subject.shape)"
   ]
  },
  {
   "cell_type": "code",
   "execution_count": null,
   "metadata": {},
   "outputs": [],
   "source": [
    "subj_104.pca_transform()\n",
    "print(subj_104.subject.shape)"
   ]
  },
  {
   "cell_type": "code",
   "execution_count": null,
   "metadata": {},
   "outputs": [],
   "source": [
    "clf = RandomForestClassifier(n_estimators=100, random_state=RANDOM_STATE)"
   ]
  },
  {
   "cell_type": "code",
   "execution_count": null,
   "metadata": {},
   "outputs": [],
   "source": [
    "clf = Subject.train_model(\n",
    "    clf,\n",
    "    subj_104.subject,\n",
    "    subj_104.reject)"
   ]
  }
 ],
 "metadata": {
  "kernelspec": {
   "display_name": "Python 3",
   "language": "python",
   "name": "python3"
  },
  "language_info": {
   "codemirror_mode": {
    "name": "ipython",
    "version": 3
   },
   "file_extension": ".py",
   "mimetype": "text/x-python",
   "name": "python",
   "nbconvert_exporter": "python",
   "pygments_lexer": "ipython3",
   "version": "3.6.8"
  }
 },
 "nbformat": 4,
 "nbformat_minor": 2
}
