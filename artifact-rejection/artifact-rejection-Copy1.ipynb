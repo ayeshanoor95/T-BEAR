{
 "cells": [
  {
   "cell_type": "code",
   "execution_count": 1,
   "metadata": {
    "scrolled": true
   },
   "outputs": [],
   "source": [
    "%run -i utils.py"
   ]
  },
  {
   "cell_type": "code",
   "execution_count": 2,
   "metadata": {},
   "outputs": [],
   "source": [
    "from sklearn.model_selection import cross_val_score\n",
    "from tpot import TPOTClassifier"
   ]
  },
  {
   "cell_type": "code",
   "execution_count": 3,
   "metadata": {
    "scrolled": true
   },
   "outputs": [
    {
     "name": "stdout",
     "output_type": "stream",
     "text": [
      "['.ipynb_checkpoints', 'artifact-rejection-Copy1.ipynb', 'artifact-rejection.ipynb', 'artifact-rejection.py', 'eeg-data', 'eeg-data.zip', 'utils.py']\n",
      ".ipynb_checkpoints\n",
      "artifact-rejection-Copy1.ipynb\n",
      "artifact-rejection.ipynb\n",
      "artifact-rejection.py\n",
      "eeg-data\n",
      "eeg-data.zip\n",
      "utils.py\n"
     ]
    }
   ],
   "source": [
    "from __future__ import print_function\n",
    "import os,sys\n",
    " \n",
    "path = '.'\n",
    " \n",
    "if len(sys.argv) == 2:\n",
    "    path = sys.argv[1]\n",
    "files = os.listdir(path)\n",
    "print(files)\n",
    "for name in files:\n",
    "    print(name)"
   ]
  },
  {
   "cell_type": "code",
   "execution_count": 4,
   "metadata": {
    "scrolled": true
   },
   "outputs": [
    {
     "data": {
      "text/plain": [
       "['.ipynb_checkpoints',\n",
       " 'artifact-rejection-Copy1.ipynb',\n",
       " 'artifact-rejection.ipynb',\n",
       " 'artifact-rejection.py',\n",
       " 'eeg-data',\n",
       " 'eeg-data.zip',\n",
       " 'utils.py']"
      ]
     },
     "execution_count": 4,
     "metadata": {},
     "output_type": "execute_result"
    }
   ],
   "source": [
    "path = Path(os.getcwd())\n",
    "os.listdir(path)"
   ]
  },
  {
   "cell_type": "code",
   "execution_count": 5,
   "metadata": {
    "scrolled": true
   },
   "outputs": [
    {
     "ename": "SyntaxError",
     "evalue": "invalid syntax (<ipython-input-5-442cf90c169d>, line 2)",
     "output_type": "error",
     "traceback": [
      "\u001b[0;36m  File \u001b[0;32m\"<ipython-input-5-442cf90c169d>\"\u001b[0;36m, line \u001b[0;32m2\u001b[0m\n\u001b[0;31m    for sub in\u001b[0m\n\u001b[0m               ^\u001b[0m\n\u001b[0;31mSyntaxError\u001b[0m\u001b[0;31m:\u001b[0m invalid syntax\n"
     ]
    }
   ],
   "source": [
    "for folder in os.listdir(directory):\n",
    "    for sub in "
   ]
  },
  {
   "cell_type": "code",
   "execution_count": null,
   "metadata": {
    "scrolled": true
   },
   "outputs": [],
   "source": [
    "%%capture\n",
    "# Set file paths and load files\n",
    "file_path = Path('eeg-data/Stephanie/Rew_601_rest/Rew_601_rest_bb_epoch.set')\n",
    "mat_reject = Path('eeg-data/Stephanie/Rew_601_rest/Rew_601_rest_reject_rmm.mat')\n",
    "mat_stage = Path('eeg-data/Stephanie/Rew_601_rest/Rew_601_rest_stages.mat')"
   ]
  },
  {
   "cell_type": "code",
   "execution_count": null,
   "metadata": {
    "scrolled": true
   },
   "outputs": [],
   "source": [
    "%%capture\n",
    "files = load_subject_dir(file_path, mat_reject, mat_stage)\n",
    "epochs = files['epochs']\n",
    "try:\n",
    "    rejects = files['rejects']\n",
    "except:\n",
    "    pass"
   ]
  },
  {
   "cell_type": "code",
   "execution_count": null,
   "metadata": {
    "scrolled": true
   },
   "outputs": [],
   "source": [
    "%%capture\n",
    "# Clean data\n",
    "index, scaling_time, scalings = ['epoch', 'time'], 1e3, dict(grad=1e13)\n",
    "df = epochs.to_data_frame(picks=None, scalings=scalings, scaling_time=scaling_time, index=index)\n",
    "df_epochs = df.groupby('epoch').mean()\n",
    "X, y = df_epochs.values, rejects"
   ]
  },
  {
   "cell_type": "code",
   "execution_count": null,
   "metadata": {
    "scrolled": true
   },
   "outputs": [],
   "source": [
    "X, y_true = X, y\n",
    "clfSVC = SVC(C=1.0, gamma='auto', random_state=42)\n",
    "clfSVC.fit(X, y_true)\n",
    "y_pred = clfSVC.predict(X)\n",
    "acc_score = accuracy_score(y_true, y_pred, normalize=True, sample_weight=None)\n",
    "acc_score_ = accuracy_score(y_true, y_pred, normalize=False)\n",
    "miss_score = zero_one_loss(y_true, y_pred, normalize=True, sample_weight=None)\n",
    "miss_score_ = zero_one_loss(y_true, y_pred, normalize=False)\n",
    "print('Number of Correctly Classified Samples:', acc_score_)\n",
    "print('Fraction of Correctly Classified Samples(Normalized):', acc_score)\n",
    "\n",
    "print('Number of Misclassifications:', miss_score_)\n",
    "print('Fraction of Misclassifications:', miss_score)\n",
    "\n",
    "prec_score = precision_score(y_true, y_pred, average='binary')\n",
    "print('Precision Score:', prec_score)"
   ]
  },
  {
   "cell_type": "code",
   "execution_count": null,
   "metadata": {
    "scrolled": true
   },
   "outputs": [],
   "source": [
    "# # Create .txt file with value 0 or 1 (reject) for each epoch\n",
    "# np.savetxt('y_pred.txt', y_pred, fmt='%d', delimiter=',')"
   ]
  },
  {
   "cell_type": "code",
   "execution_count": null,
   "metadata": {
    "scrolled": true
   },
   "outputs": [],
   "source": [
    "%%capture\n",
    "# Set file paths and load files\n",
    "file_path_ = Path('eeg-data/Stephanie/Rew_603_rest/Rew_603_rest_bb_epoch.set')\n",
    "mat_reject_ = Path('eeg-data/Stephanie/Rew_603_rest/Rew_603_rest_reject_rmm.mat')\n",
    "mat_stage_ = Path('eeg-data/Stephanie/Rew_603_rest/Rew_603_rest_stages.mat')"
   ]
  },
  {
   "cell_type": "code",
   "execution_count": null,
   "metadata": {
    "scrolled": true
   },
   "outputs": [],
   "source": [
    "%%capture\n",
    "files = load_subject_dir(file_path_, mat_reject_, mat_stage_)\n",
    "epochs = files['epochs']\n",
    "try:\n",
    "    rejects = files['rejects']\n",
    "except:\n",
    "    pass"
   ]
  },
  {
   "cell_type": "code",
   "execution_count": null,
   "metadata": {
    "code_folding": [],
    "scrolled": true
   },
   "outputs": [],
   "source": [
    "%%capture\n",
    "# Clean data\n",
    "index, scaling_time, scalings = ['epoch', 'time'], 1e3, dict(grad=1e13)\n",
    "df = epochs.to_data_frame(picks=None, scalings=scalings, scaling_time=scaling_time, index=index)\n",
    "df_epochs = df.groupby('epoch').mean()\n",
    "X, y = df_epochs.values, rejects"
   ]
  },
  {
   "cell_type": "code",
   "execution_count": null,
   "metadata": {
    "scrolled": false
   },
   "outputs": [],
   "source": [
    "X, y_true = X, y\n",
    "clfSVC.fit(X, y_true)\n",
    "y_pred = clfSVC.predict(X)\n",
    "acc_score = accuracy_score(y_true, y_pred, normalize=True, sample_weight=None)\n",
    "acc_score_ = accuracy_score(y_true, y_pred, normalize=False)\n",
    "miss_score = zero_one_loss(y_true, y_pred, normalize=True, sample_weight=None)\n",
    "miss_score_ = zero_one_loss(y_true, y_pred, normalize=False)\n",
    "print('Number of Correctly Classified Samples:', acc_score_)\n",
    "print('Fraction of Correctly Classified Samples(Normalized):', acc_score)\n",
    "\n",
    "print('Number of Misclassifications:', miss_score_)\n",
    "print('Fraction of Misclassifications:', miss_score)\n",
    "\n",
    "prec_score = precision_score(y_true, y_pred, average='binary')\n",
    "print('Precision Score:', prec_score)"
   ]
  },
  {
   "cell_type": "code",
   "execution_count": null,
   "metadata": {
    "scrolled": true
   },
   "outputs": [],
   "source": [
    "%%capture\n",
    "# Set file paths and load files\n",
    "file_path_ = Path('eeg-data/Stephanie/Rew_604_rest/Rew_604_rest_bb_epoch.set')\n",
    "mat_reject_ = Path('eeg-data/Stephanie/Rew_604_rest/Rew_604_rest_reject_rmm.mat')\n",
    "mat_stage_ = Path('eeg-data/Stephanie/Rew_604_rest/Rew_604_rest_stages.mat')"
   ]
  },
  {
   "cell_type": "code",
   "execution_count": null,
   "metadata": {
    "scrolled": true
   },
   "outputs": [],
   "source": [
    "%%capture\n",
    "files = load_subject_dir(file_path_, mat_reject_, mat_stage_)\n",
    "epochs = files['epochs']\n",
    "try:\n",
    "    rejects = files['rejects']\n",
    "except:\n",
    "    pass"
   ]
  },
  {
   "cell_type": "code",
   "execution_count": null,
   "metadata": {
    "scrolled": true
   },
   "outputs": [],
   "source": [
    " %%capture\n",
    "# Clean data\n",
    "index, scaling_time, scalings = ['epoch', 'time'], 1e3, dict(grad=1e13)\n",
    "df = epochs.to_data_frame(picks=None, scalings=scalings, scaling_time=scaling_time, index=index)\n",
    "df_epochs = df.groupby('epoch').mean()\n",
    "X, y = df_epochs.values, rejects"
   ]
  },
  {
   "cell_type": "code",
   "execution_count": null,
   "metadata": {
    "scrolled": true
   },
   "outputs": [],
   "source": [
    "X, y_true = X, y\n",
    "y_pred = clfSVC.predict(X)\n",
    "acc_score = accuracy_score(y_true, y_pred, normalize=True, sample_weight=None)\n",
    "acc_score_ = accuracy_score(y_true, y_pred, normalize=False)\n",
    "miss_score = zero_one_loss(y_true, y_pred, normalize=True, sample_weight=None)\n",
    "miss_score_ = zero_one_loss(y_true, y_pred, normalize=False)\n",
    "print('Number of Correctly Classified Samples:', acc_score_)\n",
    "print('Fraction of Correctly Classified Samples(Normalized):', acc_score)\n",
    "\n",
    "print('Number of Misclassifications:', miss_score_)\n",
    "print('Fraction of Misclassifications:', miss_score)\n",
    "\n",
    "prec_score = precision_score(y_true, y_pred, average='binary')\n",
    "print('Precision Score:', prec_score)"
   ]
  }
 ],
 "metadata": {
  "hide_input": false,
  "kernelspec": {
   "display_name": "Python 3",
   "language": "python",
   "name": "python3"
  },
  "language_info": {
   "codemirror_mode": {
    "name": "ipython",
    "version": 3
   },
   "file_extension": ".py",
   "mimetype": "text/x-python",
   "name": "python",
   "nbconvert_exporter": "python",
   "pygments_lexer": "ipython3",
   "version": "3.6.6"
  },
  "latex_envs": {
   "LaTeX_envs_menu_present": true,
   "autoclose": false,
   "autocomplete": true,
   "bibliofile": "biblio.bib",
   "cite_by": "apalike",
   "current_citInitial": 1,
   "eqLabelWithNumbers": true,
   "eqNumInitial": 1,
   "hotkeys": {
    "equation": "Ctrl-E",
    "itemize": "Ctrl-I"
   },
   "labels_anchors": false,
   "latex_user_defs": false,
   "report_style_numbering": false,
   "user_envs_cfg": false
  }
 },
 "nbformat": 4,
 "nbformat_minor": 2
}
