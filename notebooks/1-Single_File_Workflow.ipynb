{
 "cells": [
  {
   "cell_type": "markdown",
   "metadata": {},
   "source": [
    "# Example: Single Subject File Workflow\n",
    "This example only uses one EEG file from a subject. The file paths are defined below."
   ]
  },
  {
   "cell_type": "markdown",
   "metadata": {},
   "source": [
    "### Imports\n",
    "The following adds the tbear into our `sys.path`, so T-BEAR functions are accessible. "
   ]
  },
  {
   "cell_type": "code",
   "execution_count": 1,
   "metadata": {
    "ExecuteTime": {
     "end_time": "2019-04-18T06:23:48.583170Z",
     "start_time": "2019-04-18T06:23:47.385438Z"
    }
   },
   "outputs": [],
   "source": [
    "import os\n",
    "import sys\n",
    "\n",
    "from sklearn.ensemble import RandomForestClassifier\n",
    "\n",
    "module_path = os.path.realpath(os.path.join(\"..\", \"tbear\"))\n",
    "if module_path not in sys.path:\n",
    "    sys.path.append(module_path)\n",
    "\n",
    "%matplotlib inline"
   ]
  },
  {
   "cell_type": "code",
   "execution_count": 2,
   "metadata": {
    "ExecuteTime": {
     "end_time": "2019-04-18T06:23:53.381867Z",
     "start_time": "2019-04-18T06:23:48.585194Z"
    }
   },
   "outputs": [],
   "source": [
    "from core import *\n",
    "\n",
    "RANDOM_STATE = 42\n",
    "set_config('MNE_LOGGING_LEVEL', 'ERROR')\n",
    "set_log_level('ERROR')"
   ]
  },
  {
   "cell_type": "markdown",
   "metadata": {},
   "source": [
    "### Data Input and Instantiation\n",
    "Let's read in the `.set` file and `.mat` files. Change the paths accordingly for your file path."
   ]
  },
  {
   "cell_type": "code",
   "execution_count": 3,
   "metadata": {
    "ExecuteTime": {
     "end_time": "2019-04-18T06:23:53.422205Z",
     "start_time": "2019-04-18T06:23:53.383897Z"
    }
   },
   "outputs": [],
   "source": [
    "subject_file = os.path.realpath(\n",
    "    os.path.join(\"..\", \"data\", \"new-data\", \"epoched-files\",\n",
    "                 \"ANTT_104_SR_raw_TIB_epoch.set\"))\n",
    "reject_file = os.path.realpath(\n",
    "    os.path.join(\"..\", \"data\", \"new-data\", \"artifact-rejection-files\",\n",
    "                 \"ANTT_104_SR_reject_rmm_REMredo.mat\"))"
   ]
  },
  {
   "cell_type": "code",
   "execution_count": 4,
   "metadata": {
    "ExecuteTime": {
     "end_time": "2019-04-18T06:25:02.303686Z",
     "start_time": "2019-04-18T06:23:53.424236Z"
    }
   },
   "outputs": [
    {
     "name": "stdout",
     "output_type": "stream",
     "text": [
      "ANTT_104_SR_raw_TIB_epoch\n"
     ]
    }
   ],
   "source": [
    "subj_104 = Subject(subject_file, reject_file)\n",
    "print(subj_104)  # File name becomes the name of the Subject instance"
   ]
  },
  {
   "cell_type": "markdown",
   "metadata": {},
   "source": [
    "**Note:** We can use the class method `add_to_group()` to add this instance to a class variable. Visit `2-Directory_Workflow.ipynb` for an example."
   ]
  },
  {
   "cell_type": "code",
   "execution_count": 5,
   "metadata": {
    "ExecuteTime": {
     "end_time": "2019-04-18T06:25:02.344070Z",
     "start_time": "2019-04-18T06:25:02.305744Z"
    }
   },
   "outputs": [
    {
     "name": "stdout",
     "output_type": "stream",
     "text": [
      "(6460, 25, 1000)\n"
     ]
    }
   ],
   "source": [
    "print(subj_104.subject.shape)"
   ]
  },
  {
   "cell_type": "code",
   "execution_count": 6,
   "metadata": {
    "ExecuteTime": {
     "end_time": "2019-04-18T06:25:58.225387Z",
     "start_time": "2019-04-18T06:25:02.346110Z"
    }
   },
   "outputs": [
    {
     "name": "stdout",
     "output_type": "stream",
     "text": [
      "(6460, 500)\n"
     ]
    }
   ],
   "source": [
    "subj_104.pca_transform()\n",
    "print(subj_104.subject.shape)"
   ]
  },
  {
   "cell_type": "code",
   "execution_count": 7,
   "metadata": {
    "ExecuteTime": {
     "end_time": "2019-04-18T06:25:58.238350Z",
     "start_time": "2019-04-18T06:25:58.228377Z"
    }
   },
   "outputs": [],
   "source": [
    "clf = RandomForestClassifier(n_estimators=100, random_state=RANDOM_STATE)"
   ]
  },
  {
   "cell_type": "code",
   "execution_count": 8,
   "metadata": {
    "ExecuteTime": {
     "end_time": "2019-04-18T06:27:51.070027Z",
     "start_time": "2019-04-18T06:25:58.242338Z"
    }
   },
   "outputs": [
    {
     "name": "stdout",
     "output_type": "stream",
     "text": [
      "F1 Scores: [0.07299270072992702, 0.19999999999999998, 0.07874015748031496]\n",
      "Precision Scores: [0.7142857142857143, 1.0, 1.0]\n",
      "Recall Scores: [0.038461538461538464, 0.1111111111111111, 0.040983606557377046]\n",
      "ROC-AOC Scores: [0.5187366980845242, 0.5555555555555556, 0.5204918032786885]\n"
     ]
    }
   ],
   "source": [
    "clf = Subject.train_model(\n",
    "    clf,\n",
    "    subj_104.subject,\n",
    "    subj_104.reject,\n",
    "    kfold=True)"
   ]
  },
  {
   "cell_type": "code",
   "execution_count": 9,
   "metadata": {
    "ExecuteTime": {
     "end_time": "2019-04-18T06:28:30.523447Z",
     "start_time": "2019-04-18T06:27:51.072947Z"
    }
   },
   "outputs": [
    {
     "name": "stdout",
     "output_type": "stream",
     "text": [
      "F1 Score: 0.23684210526315788\n",
      "Precision Score: 0.9\n",
      "Recall Score: 0.13636363636363635\n",
      "ROC-AOC Score: 0.5677739878392407\n"
     ]
    }
   ],
   "source": [
    "clf = Subject.train_model(\n",
    "    clf,\n",
    "    subj_104.subject,\n",
    "    subj_104.reject)"
   ]
  }
 ],
 "metadata": {
  "kernelspec": {
   "display_name": "Python 3",
   "language": "python",
   "name": "python3"
  },
  "language_info": {
   "codemirror_mode": {
    "name": "ipython",
    "version": 3
   },
   "file_extension": ".py",
   "mimetype": "text/x-python",
   "name": "python",
   "nbconvert_exporter": "python",
   "pygments_lexer": "ipython3",
   "version": "3.6.8"
  }
 },
 "nbformat": 4,
 "nbformat_minor": 2
}
