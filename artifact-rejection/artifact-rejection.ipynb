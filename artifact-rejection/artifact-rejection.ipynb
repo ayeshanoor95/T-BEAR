{
 "cells": [
  {
   "cell_type": "code",
   "execution_count": null,
   "metadata": {
    "scrolled": true
   },
   "outputs": [],
   "source": [
    "%run -i utils.py"
   ]
  },
  {
   "cell_type": "code",
   "execution_count": null,
   "metadata": {
    "scrolled": true
   },
   "outputs": [],
   "source": [
    "subjects = list()\n",
    "stephanie_folder = Path(\"C:\\\\Users\\\\peter\\\\git\\\\EEG-artifact-rejection\\\\artifact-rejection\\\\eeg-data\\\\Stephanie\")\n",
    "sub_folders = [os.path.join(stephanie_folder, file) for file in os.listdir(stephanie_folder)]"
   ]
  },
  {
   "cell_type": "code",
   "execution_count": null,
   "metadata": {
    "scrolled": true
   },
   "outputs": [],
   "source": [
    "clfSVC = SVC(C=1.0, gamma='auto', random_state=42)\n",
    "\n",
    "for sub in sub_folders:\n",
    "    files = os.listdir(Path(sub))\n",
    "    temp_sub_files = dict()\n",
    "    for file in files:\n",
    "        file_path = os.path.join(Path(sub), file)\n",
    "        if 'epoch' in file:\n",
    "            temp_sub_files['epoch'] = file_path\n",
    "        if 'reject' in file:\n",
    "             temp_sub_files['reject'] = file_path\n",
    "        elif 'stages' in file:\n",
    "            temp_sub_files['stage'] = file_path\n",
    "    subjects.append(temp_sub_files)\n",
    "\n",
    "x_train = subjects[:21]\n",
    "x_test = subjects[22:]\n",
    "\n",
    "for sub_ in x_train:\n",
    "    file_path = sub_['epoch']\n",
    "    mat_reject = sub_['reject']\n",
    "    mat_stage = sub_['stage']\n",
    "\n",
    "    files = load_subject_dir(file_path, mat_reject, mat_stage)\n",
    "    epochs = files['epochs']\n",
    "    try:\n",
    "        rejects = files['rejects']\n",
    "    except:\n",
    "        pass\n",
    "\n",
    "    # Clean data\n",
    "    index, scaling_time, scalings = ['epoch', 'time'], 1e3, dict(grad=1e13)\n",
    "    df = epochs.to_data_frame(picks=None, scalings=scalings, scaling_time=scaling_time, index=index)\n",
    "    df_epochs = df.groupby('epoch').mean()\n",
    "\n",
    "    try:\n",
    "        stages = files['stages']\n",
    "\n",
    "    except:\n",
    "        pass\n",
    "\n",
    "    df_epochs['stage'] = stages\n",
    "\n",
    "    df_epochs = df.groupby('epoch').mean()\n",
    "    X, y = df_epochs.values, rejects\n",
    "    X, y_true = X, y\n",
    "    clfSVC.fit(X, y_true)"
   ]
  },
  {
   "cell_type": "code",
   "execution_count": null,
   "metadata": {
    "scrolled": true
   },
   "outputs": [],
   "source": [
    "for sub__ in x_test:\n",
    "    file_path = sub__['epoch']\n",
    "    mat_reject = sub__['reject']\n",
    "    mat_stage = sub__['stage']\n",
    "\n",
    "    files = load_subject_dir(file_path, mat_reject, mat_stage)\n",
    "    epochs = files['epochs']\n",
    "    try:\n",
    "        rejects = files['rejects']\n",
    "    except:\n",
    "        pass\n",
    "\n",
    "    # Clean data\n",
    "    index, scaling_time, scalings = ['epoch', 'time'], 1e3, dict(grad=1e13)\n",
    "    df = epochs.to_data_frame(picks=None, scalings=scalings, scaling_time=scaling_time, index=index)\n",
    "    df_epochs = df.groupby('epoch').mean()\n",
    "\n",
    "    try:\n",
    "        stages = files['stages']\n",
    "    except:\n",
    "        pass\n",
    "\n",
    "    df_epochs['stage'] = stages\n",
    "    df_epochs = df.groupby('epoch').mean()\n",
    "    X, y = df_epochs.values, rejects\n",
    "    X, y_true = X, y\n",
    "    y_pred = clfSVC.predict(X)\n",
    "    \n",
    "    print(\"\\tRecall: %1.3f\" % recall_score(y_true, y_pred))\n",
    "    print(\"\\tF1: %1.3f\\n\" % f1_score(y_true, y_pred))"
   ]
  },
  {
   "cell_type": "markdown",
   "metadata": {},
   "source": [
    "- **Recall** _(sensitivity or true positive rate)_:\n",
    "$$\\frac{\\text{True Positives}}{\\text{Trust Positives + False Negatives}}$$"
   ]
  },
  {
   "cell_type": "markdown",
   "metadata": {},
   "source": [
    "- **F1 Score** _(weighted average of Precision and Recall)_:\n",
    "$$\\frac{2 \\cdot (\\text{Recall} \\cdot \\text{Precision})}{\\text{Recall} + \\text{Precision}}$$"
   ]
  }
 ],
 "metadata": {
  "hide_input": false,
  "kernelspec": {
   "display_name": "Python 3",
   "language": "python",
   "name": "python3"
  },
  "language_info": {
   "codemirror_mode": {
    "name": "ipython",
    "version": 3
   },
   "file_extension": ".py",
   "mimetype": "text/x-python",
   "name": "python",
   "nbconvert_exporter": "python",
   "pygments_lexer": "ipython3",
   "version": "3.7.1"
  },
  "latex_envs": {
   "LaTeX_envs_menu_present": true,
   "autoclose": false,
   "autocomplete": true,
   "bibliofile": "biblio.bib",
   "cite_by": "apalike",
   "current_citInitial": 1,
   "eqLabelWithNumbers": true,
   "eqNumInitial": 1,
   "hotkeys": {
    "equation": "Ctrl-E",
    "itemize": "Ctrl-I"
   },
   "labels_anchors": false,
   "latex_user_defs": false,
   "report_style_numbering": false,
   "user_envs_cfg": false
  }
 },
 "nbformat": 4,
 "nbformat_minor": 2
}
