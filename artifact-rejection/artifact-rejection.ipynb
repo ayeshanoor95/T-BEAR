{
 "cells": [
  {
   "cell_type": "code",
   "execution_count": null,
   "metadata": {},
   "outputs": [],
   "source": [
    "%run -i utilities.py"
   ]
  },
  {
   "cell_type": "code",
   "execution_count": null,
   "metadata": {},
   "outputs": [],
   "source": [
    "# Set file paths and load files\n",
    "file_path = Path(\n",
    "    '/home/walker/peterwhy/git/EEG-artifact-rejection/artifact-rejection/eeg-data/Stephanie/Rew_601_rest/Rew_601_rest_bb_epoch.set')\n",
    "mat_reject = Path(\n",
    "    '/home/walker/peterwhy/git/EEG-artifact-rejection/artifact-rejection/eeg-data/Stephanie/Rew_601_rest/Rew_601_rest_reject_rmm.mat')\n",
    "mat_stage = Path(\n",
    "    '/home/walker/peterwhy/git/EEG-artifact-rejection/artifact-rejection/eeg-data/Stephanie/Rew_601_rest/Rew_601_rest_stages.mat')\n",
    "\n",
    "files = load_subject_dir(file_path, mat_reject, mat_stage)"
   ]
  },
  {
   "cell_type": "code",
   "execution_count": null,
   "metadata": {},
   "outputs": [],
   "source": [
    "epochs = files['epochs']\n",
    "try:\n",
    "    reject = files['reject']\n",
    "except:\n",
    "    pass"
   ]
  },
  {
   "cell_type": "code",
   "execution_count": null,
   "metadata": {},
   "outputs": [],
   "source": [
    "# Read epochs into dataframe and clean df\n",
    "index, scaling_time, scalings = ['epoch', 'time'], 1e3, dict(grad=1e13)\n",
    "df_read = epochs.to_data_frame(\n",
    "    picks=None, scalings=scalings, scaling_time=scaling_time, index=index)\n",
    "df = clean_df(df_read)\n",
    "df_ = df.copy()"
   ]
  },
  {
   "cell_type": "code",
   "execution_count": null,
   "metadata": {},
   "outputs": [],
   "source": [
    "# Select values from dataframe and reject file\n",
    "df_values = extract_df_values(df)\n",
    "X, y = df_values.values, reject\n",
    "df_IF = run_IForest(X, y, df)"
   ]
  },
  {
   "cell_type": "code",
   "execution_count": null,
   "metadata": {},
   "outputs": [],
   "source": [
    "# Create .csv with rejected <#> epochs\n",
    "drop_epochs = sorted(list(set(df_IF['epoch'])))\n",
    "drop_epochs_ = np.asarray(drop_epochs)\n",
    "drop_epochs_.tofile('pred_y.csv', sep=',', format='%f')"
   ]
  }
 ],
 "metadata": {
  "hide_input": false,
  "kernelspec": {
   "display_name": "Python 3",
   "language": "python",
   "name": "python3"
  },
  "language_info": {
   "codemirror_mode": {
    "name": "ipython",
    "version": 3
   },
   "file_extension": ".py",
   "mimetype": "text/x-python",
   "name": "python",
   "nbconvert_exporter": "python",
   "pygments_lexer": "ipython3",
   "version": "3.6.6"
  }
 },
 "nbformat": 4,
 "nbformat_minor": 2
}
